{
 "cells": [
  {
   "cell_type": "markdown",
   "metadata": {
    "cell_id": "457474ff5fa14333ad71855458f563d1",
    "deepnote_cell_type": "text-cell-h1",
    "formattedRanges": [],
    "is_collapsed": false,
    "tags": []
   },
   "source": [
    "# Setup\n",
    "We will load all the necessary libraries."
   ]
  },
  {
   "cell_type": "code",
   "execution_count": 23,
   "metadata": {
    "cell_id": "95ac39eed0a34d11a9b8dd4e1cc8bc70",
    "deepnote_cell_type": "code",
    "deepnote_to_be_reexecuted": false,
    "execution_millis": 9062,
    "execution_start": 1667570738692,
    "source_hash": "92ccb443",
    "tags": []
   },
   "outputs": [],
   "source": [
    "from sklearn import datasets\n",
    "import pandas as pd\n",
    "import numpy as np\n",
    "import math\n",
    "import random\n",
    "from numpy_ml import neural_nets\n",
    "import plotly.express as px\n",
    "import plotly.graph_objects as go\n",
    "import wandb\n",
    "import os\n",
    "\n",
    "os.environ[\"WANDB_SILENT\"] = \"true\""
   ]
  },
  {
   "cell_type": "markdown",
   "metadata": {
    "cell_id": "d5b173368c1241df93246421861ddf6e",
    "deepnote_cell_type": "text-cell-h1",
    "formattedRanges": [],
    "is_collapsed": false,
    "tags": []
   },
   "source": [
    "# Data"
   ]
  },
  {
   "cell_type": "markdown",
   "metadata": {
    "cell_id": "7df62e77-49ab-4c4e-906b-e3224ec579a0",
    "deepnote_cell_type": "text-cell-p",
    "formattedRanges": [
     {
      "fromCodePoint": 39,
      "ranges": [],
      "toCodePoint": 51,
      "type": "link",
      "url": "https://archive.ics.uci.edu/ml/datasets/iris"
     }
    ],
    "is_collapsed": false,
    "tags": []
   },
   "source": [
    "In this experiment, we'll be using the Iris dataset. The iris dataset has 150 entries, each of them having four attributes. There are no missing values in the dataset, and each data entry maps one of the three possible classes.\n",
    "1. Iris Setosa\n",
    "2. Iris Versicolour\n",
    "3. Iris Versicolour"
   ]
  },
  {
   "cell_type": "code",
   "execution_count": 24,
   "metadata": {
    "cell_id": "958db31c2b234cd6bdc12e07845760e4",
    "deepnote_cell_type": "code",
    "deepnote_to_be_reexecuted": false,
    "execution_millis": 282,
    "execution_start": 1667571505795,
    "source_hash": "f9ed3e2b",
    "tags": []
   },
   "outputs": [
    {
     "name": "stdout",
     "output_type": "stream",
     "text": [
      "Training Data Shape: (150, 4)\n",
      "Training Label Shape: (150,)\n"
     ]
    }
   ],
   "source": [
    "iris = datasets.load_iris()\n",
    "\n",
    "def onhot_encoder(y):\n",
    "    y_oh = np.zeros((y.size, y.max() + 1))\n",
    "    y_oh[np.arange(y.size), y] = 1\n",
    "    return y_oh\n",
    "\n",
    "# data\n",
    "x_train = iris.data\n",
    "print(f\"Training Data Shape: {x_train.shape}\")\n",
    "\n",
    "# ṭarget\n",
    "y_train = iris.target\n",
    "print(f\"Training Label Shape: {y_train.shape}\")\n",
    "\n",
    "# Used for testing\n",
    "y_train_oh = onhot_encoder(y_train)\n",
    "\n",
    "# TODO: Split data into training and testing set"
   ]
  },
  {
   "cell_type": "markdown",
   "metadata": {
    "cell_id": "16a6b77139d6430a997217520ef63057",
    "deepnote_cell_type": "text-cell-h1",
    "formattedRanges": [],
    "is_collapsed": false,
    "tags": []
   },
   "source": [
    "# Neural Network\n",
    "In this section, we'll be defining the neural network that we will be using for our experiment."
   ]
  },
  {
   "cell_type": "markdown",
   "metadata": {
    "cell_id": "205e195d64b24a3fa1f58ad0b119c6d8",
    "deepnote_cell_type": "text-cell-h2",
    "formattedRanges": [],
    "is_collapsed": false,
    "tags": []
   },
   "source": [
    "## Utility functions"
   ]
  },
  {
   "cell_type": "code",
   "execution_count": 25,
   "metadata": {
    "cell_id": "4bf97e640124493f8c39143112523801",
    "deepnote_cell_type": "code",
    "deepnote_to_be_reexecuted": false,
    "execution_millis": 1,
    "execution_start": 1667571505796,
    "source_hash": "babd176",
    "tags": []
   },
   "outputs": [],
   "source": [
    "def sigmoid(x):\n",
    "    return 1/(1+np.exp(-x))\n",
    "\n",
    "def ReLU(x):\n",
    "    return np.maximum(0,x)\n",
    "\n",
    "def dReLU(x):\n",
    "    return 1 * (x > 0) \n",
    "\n",
    "def softmax(z):\n",
    "    z = z - np.max(z, axis = 1).reshape(z.shape[0],1)\n",
    "    return np.exp(z) / np.sum(np.exp(z), axis = 1).reshape(z.shape[0],1)\n",
    "\n",
    "def stable_softmax(z):\n",
    "    exps = np.exp(z - np.max(z))\n",
    "    return exps / np.sum(exps)\n",
    "\n",
    "def activation(x, w, b):\n",
    "    return sigmoid(np.dot(x, w)+b)\n"
   ]
  },
  {
   "cell_type": "markdown",
   "metadata": {
    "cell_id": "f660d06e163541a9964a359d92ebfac2",
    "deepnote_cell_type": "text-cell-h2",
    "formattedRanges": [],
    "is_collapsed": false,
    "tags": []
   },
   "source": [
    "## The Network"
   ]
  },
  {
   "cell_type": "code",
   "execution_count": 26,
   "metadata": {
    "cell_id": "e74c2df4e98e42d8bcbb6aef8155d750",
    "deepnote_cell_type": "code",
    "deepnote_to_be_reexecuted": false,
    "execution_millis": 40,
    "execution_start": 1667571505797,
    "source_hash": "5390eeee",
    "tags": []
   },
   "outputs": [],
   "source": [
    "class NN:\n",
    "    def __init__(self, input_size, output_size, hidden_shape):\n",
    "        self.nodes = hidden_shape\n",
    "        self.params = []\n",
    "        self.biases = []\n",
    "        self.total_num_params = 0\n",
    "\n",
    "        assert len(hidden_shape) > 0\n",
    "        assert input_size > 0\n",
    "        assert output_size > 0\n",
    "\n",
    "        # Creating the network\n",
    "        nn_last_layer_size = None\n",
    "        for hidden_size in hidden_shape:\n",
    "            nn_in_size = input_size if nn_last_layer_size is None else nn_last_layer_size\n",
    "            nn_out_size = hidden_size\n",
    "            \n",
    "            self.params.append(np.random.randn(nn_in_size, nn_out_size))\n",
    "            self.biases.append(np.random.randn(nn_out_size,))\n",
    "\n",
    "            nn_last_layer_size = nn_out_size\n",
    "\n",
    "            # storing dims for later\n",
    "            self.total_num_params += (nn_in_size * nn_out_size) + nn_out_size\n",
    "\n",
    "        self.params.append(np.random.rand(nn_last_layer_size, output_size))\n",
    "        self.biases.append(np.random.randn(output_size,))\n",
    "\n",
    "        # storing dims for later\n",
    "        self.total_num_params += (nn_last_layer_size * output_size) + output_size\n",
    "\n",
    "    def forward(self, data):\n",
    "        nn_intermediate_output = data\n",
    "\n",
    "        for hidden_layer, bias in zip(self.params, self.biases):\n",
    "            nn_intermediate_output = ReLU(np.dot(nn_intermediate_output, hidden_layer) + bias)\n",
    "        \n",
    "        return stable_softmax(nn_intermediate_output)\n",
    "\n",
    "    \"\"\"\n",
    "    This function converts all the weights into a single dimension array\n",
    "    which allows for algorithms to operate of weights on the NN directly\n",
    "    \"\"\"\n",
    "    def export(self):\n",
    "        output = np.array([])\n",
    "        for idx in range(len(self.params)):\n",
    "            output = np.concatenate((output, self.params[idx].flatten()), axis=None)\n",
    "\n",
    "        for idx in range(len(self.biases)):\n",
    "            output = np.concatenate((output, self.biases[idx].flatten()), axis=None)\n",
    "\n",
    "        return output\n",
    "\n",
    "    \"\"\"\n",
    "    This function loads a single dimension array into weights and biases.\n",
    "    We first load weights and then load biases\n",
    "    \"\"\"\n",
    "    def load(self, arr):\n",
    "        assert self.total_num_params == len(arr)\n",
    "        \n",
    "        start_idx = 0\n",
    "        for idx in range(len(self.params)):\n",
    "            dim_1 = self.params[idx].shape[0]\n",
    "            dim_2 = self.params[idx].shape[1]\n",
    "            end_idx = start_idx + (dim_1 * dim_2)\n",
    "            self.params[idx] = np.array(arr[start_idx:end_idx]).reshape(dim_1, dim_2)\n",
    "\n",
    "            start_idx = end_idx\n",
    "\n",
    "        for idx in range(len(self.biases)):\n",
    "            dim_1 = self.biases[idx].shape[0]\n",
    "            end_idx = start_idx + dim_1\n",
    "            self.biases[idx] = np.array(arr[start_idx:end_idx]).reshape(dim_1,)\n",
    "\n",
    "            start_idx = end_idx        "
   ]
  },
  {
   "cell_type": "markdown",
   "metadata": {
    "cell_id": "f3babc71667540c4bccd52be368053d7",
    "deepnote_cell_type": "text-cell-p",
    "formattedRanges": [],
    "is_collapsed": false,
    "tags": []
   },
   "source": [
    "I'll quickly test the network here to make sure it works as expected."
   ]
  },
  {
   "cell_type": "code",
   "execution_count": 27,
   "metadata": {
    "cell_id": "45b0421c6e3d47489bdc392d1dfc77b9",
    "deepnote_cell_type": "code",
    "deepnote_to_be_reexecuted": false,
    "execution_millis": 1,
    "execution_start": 1667571505837,
    "source_hash": "790fff76",
    "tags": []
   },
   "outputs": [],
   "source": [
    "dummy_nn = NN(x_train.shape[1], 1, [4, 3])\n",
    "\n",
    "# Testing with two data points\n",
    "sample_train_data = x_train[:2]\n",
    "\n",
    "# Testing a forward pass\n",
    "dummy_nn.forward(sample_train_data)\n",
    "\n",
    "# Testing export\n",
    "output = dummy_nn.export()\n",
    "assert len(output) == 39\n",
    "\n",
    "# Testing weights loading\n",
    "dummy_nn.load(np.array([x for x in range(39)]))"
   ]
  },
  {
   "cell_type": "markdown",
   "metadata": {
    "cell_id": "76be418878b94753b14cbf5641207b87",
    "deepnote_cell_type": "text-cell-h2",
    "formattedRanges": [],
    "is_collapsed": false,
    "tags": []
   },
   "source": [
    "## Loss Function"
   ]
  },
  {
   "cell_type": "code",
   "execution_count": 28,
   "metadata": {
    "cell_id": "a8c1b0d08152488c99cbcdda62354e45",
    "deepnote_cell_type": "code",
    "deepnote_to_be_reexecuted": false,
    "execution_millis": 0,
    "execution_start": 1667571505860,
    "source_hash": "4607b58",
    "tags": []
   },
   "outputs": [],
   "source": [
    "\"\"\"\n",
    "I am using cross-entropy loss\n",
    "which is pretty common for multi-class\n",
    "classification\n",
    "\n",
    "None of the values are one-hot encoded, and the function\n",
    "processes pred, based on the network output I have defined.\n",
    "pred - (n, m) matrix where n is the number of samples and m logits ( we do softmax in the funtion)\n",
    "target - one hot vector (n, m)\n",
    "\"\"\"\n",
    "def loss(pred, target):\n",
    "    m = target.shape[0]\n",
    "    p = softmax(pred)\n",
    "\n",
    "    log_likelihood = -np.log(p[range(m),target])\n",
    "    loss = np.sum(log_likelihood) / m\n",
    "    return loss\n",
    "\n",
    "loss_instance = neural_nets.losses.CrossEntropy()\n",
    "\n",
    "def cross_entropy_loss(pred, target):\n",
    "    p = softmax(pred)\n",
    "    return loss_instance.loss(target, p)"
   ]
  },
  {
   "cell_type": "markdown",
   "metadata": {
    "cell_id": "5dd475eda24446a1b77de2ccb8e375e8",
    "deepnote_cell_type": "text-cell-p",
    "formattedRanges": [],
    "is_collapsed": false,
    "tags": []
   },
   "source": [
    "I'll quickly test if the loss function works as expected"
   ]
  },
  {
   "cell_type": "code",
   "execution_count": 29,
   "metadata": {
    "cell_id": "ffc463c234ff47f7a63cc6a0b5987e8b",
    "deepnote_cell_type": "code",
    "deepnote_to_be_reexecuted": false,
    "execution_millis": 362540,
    "execution_start": 1667571505884,
    "source_hash": "69a213c5",
    "tags": []
   },
   "outputs": [
    {
     "name": "stdout",
     "output_type": "stream",
     "text": [
      "2.5465748053247386\n",
      "1.4628479124433658\n"
     ]
    }
   ],
   "source": [
    "sample_train_label = y_train_oh[:2]\n",
    "\n",
    "test_nn = NN(x_train.shape[1], 3, [4, 3])\n",
    "pred = test_nn.forward(sample_train_data)\n",
    "\n",
    "# Expected to have high loss\n",
    "print(cross_entropy_loss(pred, sample_train_label))\n",
    "\n",
    "# Expected to have low loss\n",
    "print(cross_entropy_loss(np.array([[1, 0.3, 0.2], [1, 0.6, 0.4]]), sample_train_label))"
   ]
  },
  {
   "cell_type": "markdown",
   "metadata": {
    "cell_id": "9d9b72096ddf471cb7fefa8d1a034ff8",
    "deepnote_cell_type": "text-cell-h2",
    "formattedRanges": [],
    "is_collapsed": false,
    "tags": []
   },
   "source": [
    "## Accuracy"
   ]
  },
  {
   "cell_type": "code",
   "execution_count": 30,
   "metadata": {
    "cell_id": "fdfd4db646a0443280289067a029bcdf",
    "deepnote_cell_type": "code",
    "deepnote_to_be_reexecuted": false,
    "execution_millis": 182,
    "execution_start": 1667571505898,
    "source_hash": "3ec05b00",
    "tags": []
   },
   "outputs": [],
   "source": [
    "def accuracy(pred, target):\n",
    "    p = np.argmax(softmax(pred), axis=1)\n",
    "\n",
    "    return np.equal(p, target).mean()"
   ]
  },
  {
   "cell_type": "markdown",
   "metadata": {
    "cell_id": "5d50b9778e98459e9b66a10c71edd337",
    "deepnote_cell_type": "text-cell-p",
    "formattedRanges": [],
    "is_collapsed": false,
    "tags": []
   },
   "source": [
    "I'll test the function just to be sure"
   ]
  },
  {
   "cell_type": "code",
   "execution_count": 52,
   "metadata": {
    "cell_id": "7640815a213449d8afb15dd74a2bc186",
    "deepnote_cell_type": "code",
    "deepnote_to_be_reexecuted": false,
    "execution_millis": 317747,
    "execution_start": 1667571505911,
    "source_hash": "da3e1913",
    "tags": []
   },
   "outputs": [
    {
     "name": "stdout",
     "output_type": "stream",
     "text": [
      "[[0.33082943 0.33834114 0.33082943]\n",
      " [0.33082943 0.33834114 0.33082943]]\n",
      "0.0\n",
      "1.0\n"
     ]
    }
   ],
   "source": [
    "test_nn = NN(x_train.shape[1], 3, [4, 3])\n",
    "pred = test_nn.forward(sample_train_data)\n",
    "sample_train_label = y_train[:2]\n",
    "\n",
    "print(softmax(pred))\n",
    "\n",
    "# Expected to have high loss\n",
    "print(accuracy(pred, sample_train_label))\n",
    "\n",
    "# Expected to have low loss\n",
    "print(accuracy(np.array([[1, 0, 0], [1, 0, 0]]), sample_train_label))"
   ]
  },
  {
   "cell_type": "markdown",
   "metadata": {
    "cell_id": "da416d92e72e4a4d8c7c9ea9bcdd575a",
    "deepnote_cell_type": "text-cell-h1",
    "formattedRanges": [],
    "is_collapsed": false,
    "tags": []
   },
   "source": [
    "# Optimisation"
   ]
  },
  {
   "cell_type": "markdown",
   "metadata": {
    "cell_id": "004884a3-ee1c-4e39-873b-78752bfdd44a",
    "deepnote_cell_type": "text-cell-p",
    "formattedRanges": [],
    "is_collapsed": false,
    "tags": []
   },
   "source": [
    "In the following section, we will be optimising the neural network using methods like:\n",
    "1. Particle Swarm Optimisation\n",
    "2. Ant Colony Optimisation"
   ]
  },
  {
   "cell_type": "markdown",
   "metadata": {
    "cell_id": "1896e886eefc48e09671031c6ce8cf68",
    "deepnote_cell_type": "text-cell-h2",
    "formattedRanges": [],
    "is_collapsed": false,
    "tags": []
   },
   "source": [
    "## Particle Swarm Optimisation"
   ]
  },
  {
   "cell_type": "code",
   "execution_count": 77,
   "metadata": {
    "cell_id": "92d96b500b864f67bbe507f2e863ba3f",
    "deepnote_cell_type": "code",
    "deepnote_to_be_reexecuted": false,
    "execution_millis": 32,
    "execution_start": 1667571671557,
    "source_hash": "be49849c",
    "tags": []
   },
   "outputs": [],
   "source": [
    "class Particles:\n",
    "    def __init__(self, idx, position, velocity, initial_cost, initial_acc):\n",
    "        self.pid = idx\n",
    "        self.position = position\n",
    "        self.velocity = velocity\n",
    "        self.best_position = position\n",
    "        self.least_cost = initial_cost\n",
    "        self.best_acc = initial_acc\n",
    "    \n",
    "class NN_PSO:\n",
    "    def __init__(self, nn, particle_count, data_x, data_y, config={}):\n",
    "        # logger\n",
    "        wandb.init(project=\"ntnu-si-assignment-3\", entity=\"piperunner\")\n",
    "        \n",
    "        search_space_dims = len(nn.export())\n",
    "\n",
    "        self.nn = nn\n",
    "        self.data_x = data_x\n",
    "        self.data_y = data_y\n",
    "        self.data_y_oh = onhot_encoder(data_y)\n",
    "        self.best_position = None\n",
    "        self.best_accuracy = None\n",
    "        self.least_cost = math.inf\n",
    "        self.config = config\n",
    "\n",
    "        # Create particles with random position\n",
    "        assert particle_count > 0\n",
    "        self.particles = []\n",
    "        # Using He Initialization (https://machinelearningmastery.com/weight-initialization-for-deep-learning-neural-networks/)\n",
    "        # My method is slightly inaccurate since I don't consider the nodes of the last node\n",
    "        max_nodes = max(nn.nodes)\n",
    "        std = math.sqrt(2.0 / max_nodes)\n",
    "        mean = 0\n",
    "        for idx in range(particle_count):\n",
    "            position = np.random.randn(search_space_dims,) * std + mean\n",
    "            velocity = None\n",
    "            cost = self.__cost(position)\n",
    "            acc = self.__acc(position)\n",
    "\n",
    "            if cost < self.least_cost:\n",
    "                self.least_cost = cost\n",
    "                self.best_position = position\n",
    "                self.best_accuracy = self.__acc(position)\n",
    "\n",
    "            particle = Particles(\n",
    "                idx,\n",
    "                position, \n",
    "                velocity,\n",
    "                cost,\n",
    "                acc\n",
    "            )\n",
    "            self.particles.append(particle)\n",
    "\n",
    "    def __cost(self, position):\n",
    "        self.nn.load(position)\n",
    "        pred = self.nn.forward(self.data_x)\n",
    "\n",
    "        return cross_entropy_loss(pred, self.data_y_oh)\n",
    "\n",
    "    def __acc(self, position):\n",
    "        self.nn.load(position)\n",
    "        pred = self.nn.forward(self.data_x)\n",
    "\n",
    "        return accuracy(pred, self.data_y)\n",
    "\n",
    "    def fit(self, epochs = 10, dt=0.01):\n",
    "        ep_cost = pd.DataFrame(columns=[\"epoch\", \"least_cost\", \"accuracy\"]) \n",
    "        i_start = self.config[\"inertia_start\"]\n",
    "        i_end = self.config[\"inertia_end\"]\n",
    "        c_1 = self.config[\"c_1\"]\n",
    "        c_2 = self.config[\"c_2\"]\n",
    "        \n",
    "        wandb.config = {\n",
    "            \"c_1\": c_1,\n",
    "            \"c_2\": c_2,\n",
    "            \"inertia_start\": i_start,\n",
    "            \"inertia_end\": i_end,\n",
    "            \"epochs\": epochs,\n",
    "            \"dt\": dt\n",
    "        }\n",
    "\n",
    "        for epoch_idx in range(epochs):\n",
    "            w = i_start - (i_start - i_end) * (epoch_idx / epochs)\n",
    "\n",
    "            for particle in self.particles:\n",
    "                r_1 = random.random()\n",
    "                r_2 = random.random()\n",
    "\n",
    "                new_vel = np.add(\n",
    "                    (particle.best_position - particle.position) * (r_1 * c_2),\n",
    "                    (self.best_position - particle.position) * (r_2 * c_2)\n",
    "                )\n",
    "                new_pos = np.add(\n",
    "                    particle.position,\n",
    "                    new_vel * dt\n",
    "                )\n",
    "\n",
    "                particle.velocity = new_vel\n",
    "                particle.position = new_pos\n",
    "\n",
    "                cost = self.__cost(new_pos)\n",
    "                acc = self.__acc(new_pos)\n",
    "\n",
    "                if cost < particle.least_cost and acc > particle.best_acc:\n",
    "                    particle.least_cost = cost\n",
    "                    particle.best_position = new_pos\n",
    "                    particle.best_acc = acc\n",
    "\n",
    "                if cost < self.least_cost and acc > self.best_accuracy:\n",
    "                    self.least_cost = cost\n",
    "                    self.best_position = new_pos\n",
    "                    self.best_accuracy = acc\n",
    "        \n",
    "            ep_cost.loc[len(ep_cost.index)] = [epoch_idx, self.least_cost, self.best_accuracy]\n",
    "            \n",
    "            wandb.log({\n",
    "                \"epoch\": epoch_idx + 1, \n",
    "                \"least_cost\": self.least_cost, \n",
    "                \"best_accuracy\": self.best_accuracy\n",
    "            })\n",
    "\n",
    "        return (self.best_position, self.least_cost, ep_cost)"
   ]
  },
  {
   "cell_type": "code",
   "execution_count": 78,
   "metadata": {
    "cell_id": "49b5c4c5865545e28a85a387baa612f8",
    "deepnote_cell_type": "code",
    "deepnote_to_be_reexecuted": false,
    "execution_millis": 57091,
    "execution_start": 1667571671949,
    "source_hash": "43c18bd9",
    "tags": []
   },
   "outputs": [
    {
     "data": {
      "application/vnd.jupyter.widget-view+json": {
       "model_id": "eac242d77e1e4a1ebe094d0b6e11c999",
       "version_major": 2,
       "version_minor": 0
      },
      "text/plain": [
       "VBox(children=(Label(value='Waiting for wandb.init()...\\r'), FloatProgress(value=0.0166686545833727, max=1.0))…"
      ]
     },
     "metadata": {},
     "output_type": "display_data"
    },
    {
     "name": "stdout",
     "output_type": "stream",
     "text": [
      "164.21042052038123 0.3333333333333333\n",
      "164.21042052038123 0.3333333333333333\n"
     ]
    }
   ],
   "source": [
    "# Create neural network\n",
    "nn = NN(x_train.shape[1], 3, [10, 8, 7])\n",
    "\n",
    "# Create PSO\n",
    "nn_pso = NN_PSO(\n",
    "    nn, \n",
    "    250,\n",
    "    x_train, \n",
    "    y_train, \n",
    "    {\n",
    "        \"inertia_start\": 1,\n",
    "        \"inertia_end\": 0.8,\n",
    "        \"c_1\": 1.5,\n",
    "        \"c_2\": 1\n",
    "    }\n",
    ")\n",
    "\n",
    "print(nn_pso.least_cost, nn_pso.best_accuracy)\n",
    "\n",
    "(_, _, ep_cost) = nn_pso.fit(500, 0.001)\n",
    "\n",
    "print(nn_pso.least_cost, nn_pso.best_accuracy)"
   ]
  },
  {
   "cell_type": "code",
   "execution_count": 79,
   "metadata": {
    "cell_id": "6a6b73073d5c4b129ad22e12f993198e",
    "deepnote_cell_type": "visualization",
    "deepnote_to_be_reexecuted": false,
    "deepnote_variable_name": "ep_cost",
    "deepnote_visualization_spec": {
     "$schema": "https://vega.github.io/schema/vega-lite/v4.json",
     "encoding": {
      "color": {
       "field": "",
       "scale": {
        "type": "linear",
        "zero": false
       },
       "sort": null,
       "type": "quantitative"
      },
      "x": {
       "field": "epoch",
       "scale": {
        "type": "linear",
        "zero": false
       },
       "sort": null,
       "type": "quantitative"
      },
      "y": {
       "field": "least_cost",
       "scale": {
        "type": "linear",
        "zero": false
       },
       "sort": null,
       "type": "quantitative"
      }
     },
     "mark": {
      "tooltip": true,
      "type": "line"
     }
    },
    "execution_millis": 86908,
    "execution_start": 1667571728805,
    "source_hash": "d8b39e5b"
   },
   "outputs": [
    {
     "data": {
      "application/vnd.plotly.v1+json": {
       "config": {
        "plotlyServerURL": "https://plot.ly"
       },
       "data": [
        {
         "hovertemplate": "epoch=%{x}<br>Cost=%{y}<extra></extra>",
         "legendgroup": "",
         "line": {
          "color": "#636efa",
          "dash": "solid"
         },
         "marker": {
          "symbol": "circle"
         },
         "mode": "lines+markers",
         "name": "",
         "orientation": "v",
         "showlegend": false,
         "type": "scatter",
         "x": [
          0,
          1,
          2,
          3,
          4,
          5,
          6,
          7,
          8,
          9,
          10,
          11,
          12,
          13,
          14,
          15,
          16,
          17,
          18,
          19,
          20,
          21,
          22,
          23,
          24,
          25,
          26,
          27,
          28,
          29,
          30,
          31,
          32,
          33,
          34,
          35,
          36,
          37,
          38,
          39,
          40,
          41,
          42,
          43,
          44,
          45,
          46,
          47,
          48,
          49,
          50,
          51,
          52,
          53,
          54,
          55,
          56,
          57,
          58,
          59,
          60,
          61,
          62,
          63,
          64,
          65,
          66,
          67,
          68,
          69,
          70,
          71,
          72,
          73,
          74,
          75,
          76,
          77,
          78,
          79,
          80,
          81,
          82,
          83,
          84,
          85,
          86,
          87,
          88,
          89,
          90,
          91,
          92,
          93,
          94,
          95,
          96,
          97,
          98,
          99,
          100,
          101,
          102,
          103,
          104,
          105,
          106,
          107,
          108,
          109,
          110,
          111,
          112,
          113,
          114,
          115,
          116,
          117,
          118,
          119,
          120,
          121,
          122,
          123,
          124,
          125,
          126,
          127,
          128,
          129,
          130,
          131,
          132,
          133,
          134,
          135,
          136,
          137,
          138,
          139,
          140,
          141,
          142,
          143,
          144,
          145,
          146,
          147,
          148,
          149,
          150,
          151,
          152,
          153,
          154,
          155,
          156,
          157,
          158,
          159,
          160,
          161,
          162,
          163,
          164,
          165,
          166,
          167,
          168,
          169,
          170,
          171,
          172,
          173,
          174,
          175,
          176,
          177,
          178,
          179,
          180,
          181,
          182,
          183,
          184,
          185,
          186,
          187,
          188,
          189,
          190,
          191,
          192,
          193,
          194,
          195,
          196,
          197,
          198,
          199,
          200,
          201,
          202,
          203,
          204,
          205,
          206,
          207,
          208,
          209,
          210,
          211,
          212,
          213,
          214,
          215,
          216,
          217,
          218,
          219,
          220,
          221,
          222,
          223,
          224,
          225,
          226,
          227,
          228,
          229,
          230,
          231,
          232,
          233,
          234,
          235,
          236,
          237,
          238,
          239,
          240,
          241,
          242,
          243,
          244,
          245,
          246,
          247,
          248,
          249,
          250,
          251,
          252,
          253,
          254,
          255,
          256,
          257,
          258,
          259,
          260,
          261,
          262,
          263,
          264,
          265,
          266,
          267,
          268,
          269,
          270,
          271,
          272,
          273,
          274,
          275,
          276,
          277,
          278,
          279,
          280,
          281,
          282,
          283,
          284,
          285,
          286,
          287,
          288,
          289,
          290,
          291,
          292,
          293,
          294,
          295,
          296,
          297,
          298,
          299,
          300,
          301,
          302,
          303,
          304,
          305,
          306,
          307,
          308,
          309,
          310,
          311,
          312,
          313,
          314,
          315,
          316,
          317,
          318,
          319,
          320,
          321,
          322,
          323,
          324,
          325,
          326,
          327,
          328,
          329,
          330,
          331,
          332,
          333,
          334,
          335,
          336,
          337,
          338,
          339,
          340,
          341,
          342,
          343,
          344,
          345,
          346,
          347,
          348,
          349,
          350,
          351,
          352,
          353,
          354,
          355,
          356,
          357,
          358,
          359,
          360,
          361,
          362,
          363,
          364,
          365,
          366,
          367,
          368,
          369,
          370,
          371,
          372,
          373,
          374,
          375,
          376,
          377,
          378,
          379,
          380,
          381,
          382,
          383,
          384,
          385,
          386,
          387,
          388,
          389,
          390,
          391,
          392,
          393,
          394,
          395,
          396,
          397,
          398,
          399,
          400,
          401,
          402,
          403,
          404,
          405,
          406,
          407,
          408,
          409,
          410,
          411,
          412,
          413,
          414,
          415,
          416,
          417,
          418,
          419,
          420,
          421,
          422,
          423,
          424,
          425,
          426,
          427,
          428,
          429,
          430,
          431,
          432,
          433,
          434,
          435,
          436,
          437,
          438,
          439,
          440,
          441,
          442,
          443,
          444,
          445,
          446,
          447,
          448,
          449,
          450,
          451,
          452,
          453,
          454,
          455,
          456,
          457,
          458,
          459,
          460,
          461,
          462,
          463,
          464,
          465,
          466,
          467,
          468,
          469,
          470,
          471,
          472,
          473,
          474,
          475,
          476,
          477,
          478,
          479,
          480,
          481,
          482,
          483,
          484,
          485,
          486,
          487,
          488,
          489,
          490,
          491,
          492,
          493,
          494,
          495,
          496,
          497,
          498,
          499
         ],
         "xaxis": "x",
         "y": [
          164.21042052038123,
          164.21042052038123,
          164.21042052038123,
          164.21042052038123,
          164.21042052038123,
          164.21042052038123,
          164.21042052038123,
          164.21042052038123,
          164.21042052038123,
          164.21042052038123,
          164.21042052038123,
          164.21042052038123,
          164.21042052038123,
          164.21042052038123,
          164.21042052038123,
          164.21042052038123,
          164.21042052038123,
          164.21042052038123,
          164.21042052038123,
          164.21042052038123,
          164.21042052038123,
          164.21042052038123,
          164.21042052038123,
          164.21042052038123,
          164.21042052038123,
          164.21042052038123,
          164.21042052038123,
          164.21042052038123,
          164.21042052038123,
          164.21042052038123,
          164.21042052038123,
          164.21042052038123,
          164.21042052038123,
          164.21042052038123,
          164.21042052038123,
          164.21042052038123,
          164.21042052038123,
          164.21042052038123,
          164.21042052038123,
          164.21042052038123,
          164.21042052038123,
          164.21042052038123,
          164.21042052038123,
          164.21042052038123,
          164.21042052038123,
          164.21042052038123,
          164.21042052038123,
          164.21042052038123,
          164.21042052038123,
          164.21042052038123,
          164.21042052038123,
          164.21042052038123,
          164.21042052038123,
          164.21042052038123,
          164.21042052038123,
          164.21042052038123,
          164.21042052038123,
          164.21042052038123,
          164.21042052038123,
          164.21042052038123,
          164.21042052038123,
          164.21042052038123,
          164.21042052038123,
          164.21042052038123,
          164.21042052038123,
          164.21042052038123,
          164.21042052038123,
          164.21042052038123,
          164.21042052038123,
          164.21042052038123,
          164.21042052038123,
          164.21042052038123,
          164.21042052038123,
          164.21042052038123,
          164.21042052038123,
          164.21042052038123,
          164.21042052038123,
          164.21042052038123,
          164.21042052038123,
          164.21042052038123,
          164.21042052038123,
          164.21042052038123,
          164.21042052038123,
          164.21042052038123,
          164.21042052038123,
          164.21042052038123,
          164.21042052038123,
          164.21042052038123,
          164.21042052038123,
          164.21042052038123,
          164.21042052038123,
          164.21042052038123,
          164.21042052038123,
          164.21042052038123,
          164.21042052038123,
          164.21042052038123,
          164.21042052038123,
          164.21042052038123,
          164.21042052038123,
          164.21042052038123,
          164.21042052038123,
          164.21042052038123,
          164.21042052038123,
          164.21042052038123,
          164.21042052038123,
          164.21042052038123,
          164.21042052038123,
          164.21042052038123,
          164.21042052038123,
          164.21042052038123,
          164.21042052038123,
          164.21042052038123,
          164.21042052038123,
          164.21042052038123,
          164.21042052038123,
          164.21042052038123,
          164.21042052038123,
          164.21042052038123,
          164.21042052038123,
          164.21042052038123,
          164.21042052038123,
          164.21042052038123,
          164.21042052038123,
          164.21042052038123,
          164.21042052038123,
          164.21042052038123,
          164.21042052038123,
          164.21042052038123,
          164.21042052038123,
          164.21042052038123,
          164.21042052038123,
          164.21042052038123,
          164.21042052038123,
          164.21042052038123,
          164.21042052038123,
          164.21042052038123,
          164.21042052038123,
          164.21042052038123,
          164.21042052038123,
          164.21042052038123,
          164.21042052038123,
          164.21042052038123,
          164.21042052038123,
          164.21042052038123,
          164.21042052038123,
          164.21042052038123,
          164.21042052038123,
          164.21042052038123,
          164.21042052038123,
          164.21042052038123,
          164.21042052038123,
          164.21042052038123,
          164.21042052038123,
          164.21042052038123,
          164.21042052038123,
          164.21042052038123,
          164.21042052038123,
          164.21042052038123,
          164.21042052038123,
          164.21042052038123,
          164.21042052038123,
          164.21042052038123,
          164.21042052038123,
          164.21042052038123,
          164.21042052038123,
          164.21042052038123,
          164.21042052038123,
          164.21042052038123,
          164.21042052038123,
          164.21042052038123,
          164.21042052038123,
          164.21042052038123,
          164.21042052038123,
          164.21042052038123,
          164.21042052038123,
          164.21042052038123,
          164.21042052038123,
          164.21042052038123,
          164.21042052038123,
          164.21042052038123,
          164.21042052038123,
          164.21042052038123,
          164.21042052038123,
          164.21042052038123,
          164.21042052038123,
          164.21042052038123,
          164.21042052038123,
          164.21042052038123,
          164.21042052038123,
          164.21042052038123,
          164.21042052038123,
          164.21042052038123,
          164.21042052038123,
          164.21042052038123,
          164.21042052038123,
          164.21042052038123,
          164.21042052038123,
          164.21042052038123,
          164.21042052038123,
          164.21042052038123,
          164.21042052038123,
          164.21042052038123,
          164.21042052038123,
          164.21042052038123,
          164.21042052038123,
          164.21042052038123,
          164.21042052038123,
          164.21042052038123,
          164.21042052038123,
          164.21042052038123,
          164.21042052038123,
          164.21042052038123,
          164.21042052038123,
          164.21042052038123,
          164.21042052038123,
          164.21042052038123,
          164.21042052038123,
          164.21042052038123,
          164.21042052038123,
          164.21042052038123,
          164.21042052038123,
          164.21042052038123,
          164.21042052038123,
          164.21042052038123,
          164.21042052038123,
          164.21042052038123,
          164.21042052038123,
          164.21042052038123,
          164.21042052038123,
          164.21042052038123,
          164.21042052038123,
          164.21042052038123,
          164.21042052038123,
          164.21042052038123,
          164.21042052038123,
          164.21042052038123,
          164.21042052038123,
          164.21042052038123,
          164.21042052038123,
          164.21042052038123,
          164.21042052038123,
          164.21042052038123,
          164.21042052038123,
          164.21042052038123,
          164.21042052038123,
          164.21042052038123,
          164.21042052038123,
          164.21042052038123,
          164.21042052038123,
          164.21042052038123,
          164.21042052038123,
          164.21042052038123,
          164.21042052038123,
          164.21042052038123,
          164.21042052038123,
          164.21042052038123,
          164.21042052038123,
          164.21042052038123,
          164.21042052038123,
          164.21042052038123,
          164.21042052038123,
          164.21042052038123,
          164.21042052038123,
          164.21042052038123,
          164.21042052038123,
          164.21042052038123,
          164.21042052038123,
          164.21042052038123,
          164.21042052038123,
          164.21042052038123,
          164.21042052038123,
          164.21042052038123,
          164.21042052038123,
          164.21042052038123,
          164.21042052038123,
          164.21042052038123,
          164.21042052038123,
          164.21042052038123,
          164.21042052038123,
          164.21042052038123,
          164.21042052038123,
          164.21042052038123,
          164.21042052038123,
          164.21042052038123,
          164.21042052038123,
          164.21042052038123,
          164.21042052038123,
          164.21042052038123,
          164.21042052038123,
          164.21042052038123,
          164.21042052038123,
          164.21042052038123,
          164.21042052038123,
          164.21042052038123,
          164.21042052038123,
          164.21042052038123,
          164.21042052038123,
          164.21042052038123,
          164.21042052038123,
          164.21042052038123,
          164.21042052038123,
          164.21042052038123,
          164.21042052038123,
          164.21042052038123,
          164.21042052038123,
          164.21042052038123,
          164.21042052038123,
          164.21042052038123,
          164.21042052038123,
          164.21042052038123,
          164.21042052038123,
          164.21042052038123,
          164.21042052038123,
          164.21042052038123,
          164.21042052038123,
          164.21042052038123,
          164.21042052038123,
          164.21042052038123,
          164.21042052038123,
          164.21042052038123,
          164.21042052038123,
          164.21042052038123,
          164.21042052038123,
          164.21042052038123,
          164.21042052038123,
          164.21042052038123,
          164.21042052038123,
          164.21042052038123,
          164.21042052038123,
          164.21042052038123,
          164.21042052038123,
          164.21042052038123,
          164.21042052038123,
          164.21042052038123,
          164.21042052038123,
          164.21042052038123,
          164.21042052038123,
          164.21042052038123,
          164.21042052038123,
          164.21042052038123,
          164.21042052038123,
          164.21042052038123,
          164.21042052038123,
          164.21042052038123,
          164.21042052038123,
          164.21042052038123,
          164.21042052038123,
          164.21042052038123,
          164.21042052038123,
          164.21042052038123,
          164.21042052038123,
          164.21042052038123,
          164.21042052038123,
          164.21042052038123,
          164.21042052038123,
          164.21042052038123,
          164.21042052038123,
          164.21042052038123,
          164.21042052038123,
          164.21042052038123,
          164.21042052038123,
          164.21042052038123,
          164.21042052038123,
          164.21042052038123,
          164.21042052038123,
          164.21042052038123,
          164.21042052038123,
          164.21042052038123,
          164.21042052038123,
          164.21042052038123,
          164.21042052038123,
          164.21042052038123,
          164.21042052038123,
          164.21042052038123,
          164.21042052038123,
          164.21042052038123,
          164.21042052038123,
          164.21042052038123,
          164.21042052038123,
          164.21042052038123,
          164.21042052038123,
          164.21042052038123,
          164.21042052038123,
          164.21042052038123,
          164.21042052038123,
          164.21042052038123,
          164.21042052038123,
          164.21042052038123,
          164.21042052038123,
          164.21042052038123,
          164.21042052038123,
          164.21042052038123,
          164.21042052038123,
          164.21042052038123,
          164.21042052038123,
          164.21042052038123,
          164.21042052038123,
          164.21042052038123,
          164.21042052038123,
          164.21042052038123,
          164.21042052038123,
          164.21042052038123,
          164.21042052038123,
          164.21042052038123,
          164.21042052038123,
          164.21042052038123,
          164.21042052038123,
          164.21042052038123,
          164.21042052038123,
          164.21042052038123,
          164.21042052038123,
          164.21042052038123,
          164.21042052038123,
          164.21042052038123,
          164.21042052038123,
          164.21042052038123,
          164.21042052038123,
          164.21042052038123,
          164.21042052038123,
          164.21042052038123,
          164.21042052038123,
          164.21042052038123,
          164.21042052038123,
          164.21042052038123,
          164.21042052038123,
          164.21042052038123,
          164.21042052038123,
          164.21042052038123,
          164.21042052038123,
          164.21042052038123,
          164.21042052038123,
          164.21042052038123,
          164.21042052038123,
          164.21042052038123,
          164.21042052038123,
          164.21042052038123,
          164.21042052038123,
          164.21042052038123,
          164.21042052038123,
          164.21042052038123,
          164.21042052038123,
          164.21042052038123,
          164.21042052038123,
          164.21042052038123,
          164.21042052038123,
          164.21042052038123,
          164.21042052038123,
          164.21042052038123,
          164.21042052038123,
          164.21042052038123,
          164.21042052038123,
          164.21042052038123,
          164.21042052038123,
          164.21042052038123,
          164.21042052038123,
          164.21042052038123,
          164.21042052038123,
          164.21042052038123,
          164.21042052038123,
          164.21042052038123,
          164.21042052038123,
          164.21042052038123,
          164.21042052038123,
          164.21042052038123,
          164.21042052038123,
          164.21042052038123,
          164.21042052038123,
          164.21042052038123,
          164.21042052038123,
          164.21042052038123,
          164.21042052038123,
          164.21042052038123,
          164.21042052038123,
          164.21042052038123,
          164.21042052038123,
          164.21042052038123,
          164.21042052038123,
          164.21042052038123,
          164.21042052038123,
          164.21042052038123,
          164.21042052038123,
          164.21042052038123,
          164.21042052038123,
          164.21042052038123,
          164.21042052038123,
          164.21042052038123,
          164.21042052038123,
          164.21042052038123,
          164.21042052038123,
          164.21042052038123,
          164.21042052038123,
          164.21042052038123,
          164.21042052038123,
          164.21042052038123,
          164.21042052038123,
          164.21042052038123,
          164.21042052038123,
          164.21042052038123,
          164.21042052038123,
          164.21042052038123
         ],
         "yaxis": "y"
        }
       ],
       "layout": {
        "autosize": true,
        "legend": {
         "tracegroupgap": 0
        },
        "template": {
         "data": {
          "bar": [
           {
            "error_x": {
             "color": "#f2f5fa"
            },
            "error_y": {
             "color": "#f2f5fa"
            },
            "marker": {
             "line": {
              "color": "rgb(17,17,17)",
              "width": 0.5
             },
             "pattern": {
              "fillmode": "overlay",
              "size": 10,
              "solidity": 0.2
             }
            },
            "type": "bar"
           }
          ],
          "barpolar": [
           {
            "marker": {
             "line": {
              "color": "rgb(17,17,17)",
              "width": 0.5
             },
             "pattern": {
              "fillmode": "overlay",
              "size": 10,
              "solidity": 0.2
             }
            },
            "type": "barpolar"
           }
          ],
          "carpet": [
           {
            "aaxis": {
             "endlinecolor": "#A2B1C6",
             "gridcolor": "#506784",
             "linecolor": "#506784",
             "minorgridcolor": "#506784",
             "startlinecolor": "#A2B1C6"
            },
            "baxis": {
             "endlinecolor": "#A2B1C6",
             "gridcolor": "#506784",
             "linecolor": "#506784",
             "minorgridcolor": "#506784",
             "startlinecolor": "#A2B1C6"
            },
            "type": "carpet"
           }
          ],
          "choropleth": [
           {
            "colorbar": {
             "outlinewidth": 0,
             "ticks": ""
            },
            "type": "choropleth"
           }
          ],
          "contour": [
           {
            "colorbar": {
             "outlinewidth": 0,
             "ticks": ""
            },
            "colorscale": [
             [
              0,
              "#0d0887"
             ],
             [
              0.1111111111111111,
              "#46039f"
             ],
             [
              0.2222222222222222,
              "#7201a8"
             ],
             [
              0.3333333333333333,
              "#9c179e"
             ],
             [
              0.4444444444444444,
              "#bd3786"
             ],
             [
              0.5555555555555556,
              "#d8576b"
             ],
             [
              0.6666666666666666,
              "#ed7953"
             ],
             [
              0.7777777777777778,
              "#fb9f3a"
             ],
             [
              0.8888888888888888,
              "#fdca26"
             ],
             [
              1,
              "#f0f921"
             ]
            ],
            "type": "contour"
           }
          ],
          "contourcarpet": [
           {
            "colorbar": {
             "outlinewidth": 0,
             "ticks": ""
            },
            "type": "contourcarpet"
           }
          ],
          "heatmap": [
           {
            "colorbar": {
             "outlinewidth": 0,
             "ticks": ""
            },
            "colorscale": [
             [
              0,
              "#0d0887"
             ],
             [
              0.1111111111111111,
              "#46039f"
             ],
             [
              0.2222222222222222,
              "#7201a8"
             ],
             [
              0.3333333333333333,
              "#9c179e"
             ],
             [
              0.4444444444444444,
              "#bd3786"
             ],
             [
              0.5555555555555556,
              "#d8576b"
             ],
             [
              0.6666666666666666,
              "#ed7953"
             ],
             [
              0.7777777777777778,
              "#fb9f3a"
             ],
             [
              0.8888888888888888,
              "#fdca26"
             ],
             [
              1,
              "#f0f921"
             ]
            ],
            "type": "heatmap"
           }
          ],
          "heatmapgl": [
           {
            "colorbar": {
             "outlinewidth": 0,
             "ticks": ""
            },
            "colorscale": [
             [
              0,
              "#0d0887"
             ],
             [
              0.1111111111111111,
              "#46039f"
             ],
             [
              0.2222222222222222,
              "#7201a8"
             ],
             [
              0.3333333333333333,
              "#9c179e"
             ],
             [
              0.4444444444444444,
              "#bd3786"
             ],
             [
              0.5555555555555556,
              "#d8576b"
             ],
             [
              0.6666666666666666,
              "#ed7953"
             ],
             [
              0.7777777777777778,
              "#fb9f3a"
             ],
             [
              0.8888888888888888,
              "#fdca26"
             ],
             [
              1,
              "#f0f921"
             ]
            ],
            "type": "heatmapgl"
           }
          ],
          "histogram": [
           {
            "marker": {
             "pattern": {
              "fillmode": "overlay",
              "size": 10,
              "solidity": 0.2
             }
            },
            "type": "histogram"
           }
          ],
          "histogram2d": [
           {
            "colorbar": {
             "outlinewidth": 0,
             "ticks": ""
            },
            "colorscale": [
             [
              0,
              "#0d0887"
             ],
             [
              0.1111111111111111,
              "#46039f"
             ],
             [
              0.2222222222222222,
              "#7201a8"
             ],
             [
              0.3333333333333333,
              "#9c179e"
             ],
             [
              0.4444444444444444,
              "#bd3786"
             ],
             [
              0.5555555555555556,
              "#d8576b"
             ],
             [
              0.6666666666666666,
              "#ed7953"
             ],
             [
              0.7777777777777778,
              "#fb9f3a"
             ],
             [
              0.8888888888888888,
              "#fdca26"
             ],
             [
              1,
              "#f0f921"
             ]
            ],
            "type": "histogram2d"
           }
          ],
          "histogram2dcontour": [
           {
            "colorbar": {
             "outlinewidth": 0,
             "ticks": ""
            },
            "colorscale": [
             [
              0,
              "#0d0887"
             ],
             [
              0.1111111111111111,
              "#46039f"
             ],
             [
              0.2222222222222222,
              "#7201a8"
             ],
             [
              0.3333333333333333,
              "#9c179e"
             ],
             [
              0.4444444444444444,
              "#bd3786"
             ],
             [
              0.5555555555555556,
              "#d8576b"
             ],
             [
              0.6666666666666666,
              "#ed7953"
             ],
             [
              0.7777777777777778,
              "#fb9f3a"
             ],
             [
              0.8888888888888888,
              "#fdca26"
             ],
             [
              1,
              "#f0f921"
             ]
            ],
            "type": "histogram2dcontour"
           }
          ],
          "mesh3d": [
           {
            "colorbar": {
             "outlinewidth": 0,
             "ticks": ""
            },
            "type": "mesh3d"
           }
          ],
          "parcoords": [
           {
            "line": {
             "colorbar": {
              "outlinewidth": 0,
              "ticks": ""
             }
            },
            "type": "parcoords"
           }
          ],
          "pie": [
           {
            "automargin": true,
            "type": "pie"
           }
          ],
          "scatter": [
           {
            "marker": {
             "line": {
              "color": "#283442"
             }
            },
            "type": "scatter"
           }
          ],
          "scatter3d": [
           {
            "line": {
             "colorbar": {
              "outlinewidth": 0,
              "ticks": ""
             }
            },
            "marker": {
             "colorbar": {
              "outlinewidth": 0,
              "ticks": ""
             }
            },
            "type": "scatter3d"
           }
          ],
          "scattercarpet": [
           {
            "marker": {
             "colorbar": {
              "outlinewidth": 0,
              "ticks": ""
             }
            },
            "type": "scattercarpet"
           }
          ],
          "scattergeo": [
           {
            "marker": {
             "colorbar": {
              "outlinewidth": 0,
              "ticks": ""
             }
            },
            "type": "scattergeo"
           }
          ],
          "scattergl": [
           {
            "marker": {
             "line": {
              "color": "#283442"
             }
            },
            "type": "scattergl"
           }
          ],
          "scattermapbox": [
           {
            "marker": {
             "colorbar": {
              "outlinewidth": 0,
              "ticks": ""
             }
            },
            "type": "scattermapbox"
           }
          ],
          "scatterpolar": [
           {
            "marker": {
             "colorbar": {
              "outlinewidth": 0,
              "ticks": ""
             }
            },
            "type": "scatterpolar"
           }
          ],
          "scatterpolargl": [
           {
            "marker": {
             "colorbar": {
              "outlinewidth": 0,
              "ticks": ""
             }
            },
            "type": "scatterpolargl"
           }
          ],
          "scatterternary": [
           {
            "marker": {
             "colorbar": {
              "outlinewidth": 0,
              "ticks": ""
             }
            },
            "type": "scatterternary"
           }
          ],
          "surface": [
           {
            "colorbar": {
             "outlinewidth": 0,
             "ticks": ""
            },
            "colorscale": [
             [
              0,
              "#0d0887"
             ],
             [
              0.1111111111111111,
              "#46039f"
             ],
             [
              0.2222222222222222,
              "#7201a8"
             ],
             [
              0.3333333333333333,
              "#9c179e"
             ],
             [
              0.4444444444444444,
              "#bd3786"
             ],
             [
              0.5555555555555556,
              "#d8576b"
             ],
             [
              0.6666666666666666,
              "#ed7953"
             ],
             [
              0.7777777777777778,
              "#fb9f3a"
             ],
             [
              0.8888888888888888,
              "#fdca26"
             ],
             [
              1,
              "#f0f921"
             ]
            ],
            "type": "surface"
           }
          ],
          "table": [
           {
            "cells": {
             "fill": {
              "color": "#506784"
             },
             "line": {
              "color": "rgb(17,17,17)"
             }
            },
            "header": {
             "fill": {
              "color": "#2a3f5f"
             },
             "line": {
              "color": "rgb(17,17,17)"
             }
            },
            "type": "table"
           }
          ]
         },
         "layout": {
          "annotationdefaults": {
           "arrowcolor": "#f2f5fa",
           "arrowhead": 0,
           "arrowwidth": 1
          },
          "autotypenumbers": "strict",
          "coloraxis": {
           "colorbar": {
            "outlinewidth": 0,
            "ticks": ""
           }
          },
          "colorscale": {
           "diverging": [
            [
             0,
             "#8e0152"
            ],
            [
             0.1,
             "#c51b7d"
            ],
            [
             0.2,
             "#de77ae"
            ],
            [
             0.3,
             "#f1b6da"
            ],
            [
             0.4,
             "#fde0ef"
            ],
            [
             0.5,
             "#f7f7f7"
            ],
            [
             0.6,
             "#e6f5d0"
            ],
            [
             0.7,
             "#b8e186"
            ],
            [
             0.8,
             "#7fbc41"
            ],
            [
             0.9,
             "#4d9221"
            ],
            [
             1,
             "#276419"
            ]
           ],
           "sequential": [
            [
             0,
             "#0d0887"
            ],
            [
             0.1111111111111111,
             "#46039f"
            ],
            [
             0.2222222222222222,
             "#7201a8"
            ],
            [
             0.3333333333333333,
             "#9c179e"
            ],
            [
             0.4444444444444444,
             "#bd3786"
            ],
            [
             0.5555555555555556,
             "#d8576b"
            ],
            [
             0.6666666666666666,
             "#ed7953"
            ],
            [
             0.7777777777777778,
             "#fb9f3a"
            ],
            [
             0.8888888888888888,
             "#fdca26"
            ],
            [
             1,
             "#f0f921"
            ]
           ],
           "sequentialminus": [
            [
             0,
             "#0d0887"
            ],
            [
             0.1111111111111111,
             "#46039f"
            ],
            [
             0.2222222222222222,
             "#7201a8"
            ],
            [
             0.3333333333333333,
             "#9c179e"
            ],
            [
             0.4444444444444444,
             "#bd3786"
            ],
            [
             0.5555555555555556,
             "#d8576b"
            ],
            [
             0.6666666666666666,
             "#ed7953"
            ],
            [
             0.7777777777777778,
             "#fb9f3a"
            ],
            [
             0.8888888888888888,
             "#fdca26"
            ],
            [
             1,
             "#f0f921"
            ]
           ]
          },
          "colorway": [
           "#636efa",
           "#EF553B",
           "#00cc96",
           "#ab63fa",
           "#FFA15A",
           "#19d3f3",
           "#FF6692",
           "#B6E880",
           "#FF97FF",
           "#FECB52"
          ],
          "font": {
           "color": "#f2f5fa"
          },
          "geo": {
           "bgcolor": "rgb(17,17,17)",
           "lakecolor": "rgb(17,17,17)",
           "landcolor": "rgb(17,17,17)",
           "showlakes": true,
           "showland": true,
           "subunitcolor": "#506784"
          },
          "hoverlabel": {
           "align": "left"
          },
          "hovermode": "closest",
          "mapbox": {
           "style": "dark"
          },
          "paper_bgcolor": "rgb(17,17,17)",
          "plot_bgcolor": "rgb(17,17,17)",
          "polar": {
           "angularaxis": {
            "gridcolor": "#506784",
            "linecolor": "#506784",
            "ticks": ""
           },
           "bgcolor": "rgb(17,17,17)",
           "radialaxis": {
            "gridcolor": "#506784",
            "linecolor": "#506784",
            "ticks": ""
           }
          },
          "scene": {
           "xaxis": {
            "backgroundcolor": "rgb(17,17,17)",
            "gridcolor": "#506784",
            "gridwidth": 2,
            "linecolor": "#506784",
            "showbackground": true,
            "ticks": "",
            "zerolinecolor": "#C8D4E3"
           },
           "yaxis": {
            "backgroundcolor": "rgb(17,17,17)",
            "gridcolor": "#506784",
            "gridwidth": 2,
            "linecolor": "#506784",
            "showbackground": true,
            "ticks": "",
            "zerolinecolor": "#C8D4E3"
           },
           "zaxis": {
            "backgroundcolor": "rgb(17,17,17)",
            "gridcolor": "#506784",
            "gridwidth": 2,
            "linecolor": "#506784",
            "showbackground": true,
            "ticks": "",
            "zerolinecolor": "#C8D4E3"
           }
          },
          "shapedefaults": {
           "line": {
            "color": "#f2f5fa"
           }
          },
          "sliderdefaults": {
           "bgcolor": "#C8D4E3",
           "bordercolor": "rgb(17,17,17)",
           "borderwidth": 1,
           "tickwidth": 0
          },
          "ternary": {
           "aaxis": {
            "gridcolor": "#506784",
            "linecolor": "#506784",
            "ticks": ""
           },
           "baxis": {
            "gridcolor": "#506784",
            "linecolor": "#506784",
            "ticks": ""
           },
           "bgcolor": "rgb(17,17,17)",
           "caxis": {
            "gridcolor": "#506784",
            "linecolor": "#506784",
            "ticks": ""
           }
          },
          "title": {
           "x": 0.05
          },
          "updatemenudefaults": {
           "bgcolor": "#506784",
           "borderwidth": 0
          },
          "xaxis": {
           "automargin": true,
           "gridcolor": "#283442",
           "linecolor": "#506784",
           "ticks": "",
           "title": {
            "standoff": 15
           },
           "zerolinecolor": "#283442",
           "zerolinewidth": 2
          },
          "yaxis": {
           "automargin": true,
           "gridcolor": "#283442",
           "linecolor": "#506784",
           "ticks": "",
           "title": {
            "standoff": 15
           },
           "zerolinecolor": "#283442",
           "zerolinewidth": 2
          }
         }
        },
        "title": {
         "text": "Loss vs Epoch"
        },
        "xaxis": {
         "anchor": "y",
         "autorange": true,
         "domain": [
          0,
          1
         ],
         "range": [
          -29.334729331471998,
          528.334729331472
         ],
         "tickangle": -45,
         "title": {
          "text": "epoch"
         },
         "type": "linear"
        },
        "yaxis": {
         "anchor": "x",
         "autorange": true,
         "domain": [
          0,
          1
         ],
         "range": [
          163.21042052038123,
          165.21042052038123
         ],
         "title": {
          "text": "Cost"
         },
         "type": "linear"
        }
       }
      },
      "image/png": "[encoded data removed]",
      "text/html": [
       "<div>                            <div id=\"a3c248af-df20-4af4-9da3-d03f7c40862d\" class=\"plotly-graph-div\" style=\"height:600px; width:100%;\"></div>            <script type=\"text/javascript\">                require([\"plotly\"], function(Plotly) {                    window.PLOTLYENV=window.PLOTLYENV || {};                                    if (document.getElementById(\"a3c248af-df20-4af4-9da3-d03f7c40862d\")) {                    Plotly.newPlot(                        \"a3c248af-df20-4af4-9da3-d03f7c40862d\",                        [{\"hovertemplate\":\"epoch=%{x}<br>Cost=%{y}<extra></extra>\",\"legendgroup\":\"\",\"line\":{\"color\":\"#636efa\",\"dash\":\"solid\"},\"marker\":{\"symbol\":\"circle\"},\"mode\":\"lines+markers\",\"name\":\"\",\"orientation\":\"v\",\"showlegend\":false,\"x\":[0.0,1.0,2.0,3.0,4.0,5.0,6.0,7.0,8.0,9.0,10.0,11.0,12.0,13.0,14.0,15.0,16.0,17.0,18.0,19.0,20.0,21.0,22.0,23.0,24.0,25.0,26.0,27.0,28.0,29.0,30.0,31.0,32.0,33.0,34.0,35.0,36.0,37.0,38.0,39.0,40.0,41.0,42.0,43.0,44.0,45.0,46.0,47.0,48.0,49.0,50.0,51.0,52.0,53.0,54.0,55.0,56.0,57.0,58.0,59.0,60.0,61.0,62.0,63.0,64.0,65.0,66.0,67.0,68.0,69.0,70.0,71.0,72.0,73.0,74.0,75.0,76.0,77.0,78.0,79.0,80.0,81.0,82.0,83.0,84.0,85.0,86.0,87.0,88.0,89.0,90.0,91.0,92.0,93.0,94.0,95.0,96.0,97.0,98.0,99.0,100.0,101.0,102.0,103.0,104.0,105.0,106.0,107.0,108.0,109.0,110.0,111.0,112.0,113.0,114.0,115.0,116.0,117.0,118.0,119.0,120.0,121.0,122.0,123.0,124.0,125.0,126.0,127.0,128.0,129.0,130.0,131.0,132.0,133.0,134.0,135.0,136.0,137.0,138.0,139.0,140.0,141.0,142.0,143.0,144.0,145.0,146.0,147.0,148.0,149.0,150.0,151.0,152.0,153.0,154.0,155.0,156.0,157.0,158.0,159.0,160.0,161.0,162.0,163.0,164.0,165.0,166.0,167.0,168.0,169.0,170.0,171.0,172.0,173.0,174.0,175.0,176.0,177.0,178.0,179.0,180.0,181.0,182.0,183.0,184.0,185.0,186.0,187.0,188.0,189.0,190.0,191.0,192.0,193.0,194.0,195.0,196.0,197.0,198.0,199.0,200.0,201.0,202.0,203.0,204.0,205.0,206.0,207.0,208.0,209.0,210.0,211.0,212.0,213.0,214.0,215.0,216.0,217.0,218.0,219.0,220.0,221.0,222.0,223.0,224.0,225.0,226.0,227.0,228.0,229.0,230.0,231.0,232.0,233.0,234.0,235.0,236.0,237.0,238.0,239.0,240.0,241.0,242.0,243.0,244.0,245.0,246.0,247.0,248.0,249.0,250.0,251.0,252.0,253.0,254.0,255.0,256.0,257.0,258.0,259.0,260.0,261.0,262.0,263.0,264.0,265.0,266.0,267.0,268.0,269.0,270.0,271.0,272.0,273.0,274.0,275.0,276.0,277.0,278.0,279.0,280.0,281.0,282.0,283.0,284.0,285.0,286.0,287.0,288.0,289.0,290.0,291.0,292.0,293.0,294.0,295.0,296.0,297.0,298.0,299.0,300.0,301.0,302.0,303.0,304.0,305.0,306.0,307.0,308.0,309.0,310.0,311.0,312.0,313.0,314.0,315.0,316.0,317.0,318.0,319.0,320.0,321.0,322.0,323.0,324.0,325.0,326.0,327.0,328.0,329.0,330.0,331.0,332.0,333.0,334.0,335.0,336.0,337.0,338.0,339.0,340.0,341.0,342.0,343.0,344.0,345.0,346.0,347.0,348.0,349.0,350.0,351.0,352.0,353.0,354.0,355.0,356.0,357.0,358.0,359.0,360.0,361.0,362.0,363.0,364.0,365.0,366.0,367.0,368.0,369.0,370.0,371.0,372.0,373.0,374.0,375.0,376.0,377.0,378.0,379.0,380.0,381.0,382.0,383.0,384.0,385.0,386.0,387.0,388.0,389.0,390.0,391.0,392.0,393.0,394.0,395.0,396.0,397.0,398.0,399.0,400.0,401.0,402.0,403.0,404.0,405.0,406.0,407.0,408.0,409.0,410.0,411.0,412.0,413.0,414.0,415.0,416.0,417.0,418.0,419.0,420.0,421.0,422.0,423.0,424.0,425.0,426.0,427.0,428.0,429.0,430.0,431.0,432.0,433.0,434.0,435.0,436.0,437.0,438.0,439.0,440.0,441.0,442.0,443.0,444.0,445.0,446.0,447.0,448.0,449.0,450.0,451.0,452.0,453.0,454.0,455.0,456.0,457.0,458.0,459.0,460.0,461.0,462.0,463.0,464.0,465.0,466.0,467.0,468.0,469.0,470.0,471.0,472.0,473.0,474.0,475.0,476.0,477.0,478.0,479.0,480.0,481.0,482.0,483.0,484.0,485.0,486.0,487.0,488.0,489.0,490.0,491.0,492.0,493.0,494.0,495.0,496.0,497.0,498.0,499.0],\"xaxis\":\"x\",\"y\":[164.21042052038123,164.21042052038123,164.21042052038123,164.21042052038123,164.21042052038123,164.21042052038123,164.21042052038123,164.21042052038123,164.21042052038123,164.21042052038123,164.21042052038123,164.21042052038123,164.21042052038123,164.21042052038123,164.21042052038123,164.21042052038123,164.21042052038123,164.21042052038123,164.21042052038123,164.21042052038123,164.21042052038123,164.21042052038123,164.21042052038123,164.21042052038123,164.21042052038123,164.21042052038123,164.21042052038123,164.21042052038123,164.21042052038123,164.21042052038123,164.21042052038123,164.21042052038123,164.21042052038123,164.21042052038123,164.21042052038123,164.21042052038123,164.21042052038123,164.21042052038123,164.21042052038123,164.21042052038123,164.21042052038123,164.21042052038123,164.21042052038123,164.21042052038123,164.21042052038123,164.21042052038123,164.21042052038123,164.21042052038123,164.21042052038123,164.21042052038123,164.21042052038123,164.21042052038123,164.21042052038123,164.21042052038123,164.21042052038123,164.21042052038123,164.21042052038123,164.21042052038123,164.21042052038123,164.21042052038123,164.21042052038123,164.21042052038123,164.21042052038123,164.21042052038123,164.21042052038123,164.21042052038123,164.21042052038123,164.21042052038123,164.21042052038123,164.21042052038123,164.21042052038123,164.21042052038123,164.21042052038123,164.21042052038123,164.21042052038123,164.21042052038123,164.21042052038123,164.21042052038123,164.21042052038123,164.21042052038123,164.21042052038123,164.21042052038123,164.21042052038123,164.21042052038123,164.21042052038123,164.21042052038123,164.21042052038123,164.21042052038123,164.21042052038123,164.21042052038123,164.21042052038123,164.21042052038123,164.21042052038123,164.21042052038123,164.21042052038123,164.21042052038123,164.21042052038123,164.21042052038123,164.21042052038123,164.21042052038123,164.21042052038123,164.21042052038123,164.21042052038123,164.21042052038123,164.21042052038123,164.21042052038123,164.21042052038123,164.21042052038123,164.21042052038123,164.21042052038123,164.21042052038123,164.21042052038123,164.21042052038123,164.21042052038123,164.21042052038123,164.21042052038123,164.21042052038123,164.21042052038123,164.21042052038123,164.21042052038123,164.21042052038123,164.21042052038123,164.21042052038123,164.21042052038123,164.21042052038123,164.21042052038123,164.21042052038123,164.21042052038123,164.21042052038123,164.21042052038123,164.21042052038123,164.21042052038123,164.21042052038123,164.21042052038123,164.21042052038123,164.21042052038123,164.21042052038123,164.21042052038123,164.21042052038123,164.21042052038123,164.21042052038123,164.21042052038123,164.21042052038123,164.21042052038123,164.21042052038123,164.21042052038123,164.21042052038123,164.21042052038123,164.21042052038123,164.21042052038123,164.21042052038123,164.21042052038123,164.21042052038123,164.21042052038123,164.21042052038123,164.21042052038123,164.21042052038123,164.21042052038123,164.21042052038123,164.21042052038123,164.21042052038123,164.21042052038123,164.21042052038123,164.21042052038123,164.21042052038123,164.21042052038123,164.21042052038123,164.21042052038123,164.21042052038123,164.21042052038123,164.21042052038123,164.21042052038123,164.21042052038123,164.21042052038123,164.21042052038123,164.21042052038123,164.21042052038123,164.21042052038123,164.21042052038123,164.21042052038123,164.21042052038123,164.21042052038123,164.21042052038123,164.21042052038123,164.21042052038123,164.21042052038123,164.21042052038123,164.21042052038123,164.21042052038123,164.21042052038123,164.21042052038123,164.21042052038123,164.21042052038123,164.21042052038123,164.21042052038123,164.21042052038123,164.21042052038123,164.21042052038123,164.21042052038123,164.21042052038123,164.21042052038123,164.21042052038123,164.21042052038123,164.21042052038123,164.21042052038123,164.21042052038123,164.21042052038123,164.21042052038123,164.21042052038123,164.21042052038123,164.21042052038123,164.21042052038123,164.21042052038123,164.21042052038123,164.21042052038123,164.21042052038123,164.21042052038123,164.21042052038123,164.21042052038123,164.21042052038123,164.21042052038123,164.21042052038123,164.21042052038123,164.21042052038123,164.21042052038123,164.21042052038123,164.21042052038123,164.21042052038123,164.21042052038123,164.21042052038123,164.21042052038123,164.21042052038123,164.21042052038123,164.21042052038123,164.21042052038123,164.21042052038123,164.21042052038123,164.21042052038123,164.21042052038123,164.21042052038123,164.21042052038123,164.21042052038123,164.21042052038123,164.21042052038123,164.21042052038123,164.21042052038123,164.21042052038123,164.21042052038123,164.21042052038123,164.21042052038123,164.21042052038123,164.21042052038123,164.21042052038123,164.21042052038123,164.21042052038123,164.21042052038123,164.21042052038123,164.21042052038123,164.21042052038123,164.21042052038123,164.21042052038123,164.21042052038123,164.21042052038123,164.21042052038123,164.21042052038123,164.21042052038123,164.21042052038123,164.21042052038123,164.21042052038123,164.21042052038123,164.21042052038123,164.21042052038123,164.21042052038123,164.21042052038123,164.21042052038123,164.21042052038123,164.21042052038123,164.21042052038123,164.21042052038123,164.21042052038123,164.21042052038123,164.21042052038123,164.21042052038123,164.21042052038123,164.21042052038123,164.21042052038123,164.21042052038123,164.21042052038123,164.21042052038123,164.21042052038123,164.21042052038123,164.21042052038123,164.21042052038123,164.21042052038123,164.21042052038123,164.21042052038123,164.21042052038123,164.21042052038123,164.21042052038123,164.21042052038123,164.21042052038123,164.21042052038123,164.21042052038123,164.21042052038123,164.21042052038123,164.21042052038123,164.21042052038123,164.21042052038123,164.21042052038123,164.21042052038123,164.21042052038123,164.21042052038123,164.21042052038123,164.21042052038123,164.21042052038123,164.21042052038123,164.21042052038123,164.21042052038123,164.21042052038123,164.21042052038123,164.21042052038123,164.21042052038123,164.21042052038123,164.21042052038123,164.21042052038123,164.21042052038123,164.21042052038123,164.21042052038123,164.21042052038123,164.21042052038123,164.21042052038123,164.21042052038123,164.21042052038123,164.21042052038123,164.21042052038123,164.21042052038123,164.21042052038123,164.21042052038123,164.21042052038123,164.21042052038123,164.21042052038123,164.21042052038123,164.21042052038123,164.21042052038123,164.21042052038123,164.21042052038123,164.21042052038123,164.21042052038123,164.21042052038123,164.21042052038123,164.21042052038123,164.21042052038123,164.21042052038123,164.21042052038123,164.21042052038123,164.21042052038123,164.21042052038123,164.21042052038123,164.21042052038123,164.21042052038123,164.21042052038123,164.21042052038123,164.21042052038123,164.21042052038123,164.21042052038123,164.21042052038123,164.21042052038123,164.21042052038123,164.21042052038123,164.21042052038123,164.21042052038123,164.21042052038123,164.21042052038123,164.21042052038123,164.21042052038123,164.21042052038123,164.21042052038123,164.21042052038123,164.21042052038123,164.21042052038123,164.21042052038123,164.21042052038123,164.21042052038123,164.21042052038123,164.21042052038123,164.21042052038123,164.21042052038123,164.21042052038123,164.21042052038123,164.21042052038123,164.21042052038123,164.21042052038123,164.21042052038123,164.21042052038123,164.21042052038123,164.21042052038123,164.21042052038123,164.21042052038123,164.21042052038123,164.21042052038123,164.21042052038123,164.21042052038123,164.21042052038123,164.21042052038123,164.21042052038123,164.21042052038123,164.21042052038123,164.21042052038123,164.21042052038123,164.21042052038123,164.21042052038123,164.21042052038123,164.21042052038123,164.21042052038123,164.21042052038123,164.21042052038123,164.21042052038123,164.21042052038123,164.21042052038123,164.21042052038123,164.21042052038123,164.21042052038123,164.21042052038123,164.21042052038123,164.21042052038123,164.21042052038123,164.21042052038123,164.21042052038123,164.21042052038123,164.21042052038123,164.21042052038123,164.21042052038123,164.21042052038123,164.21042052038123,164.21042052038123,164.21042052038123,164.21042052038123,164.21042052038123,164.21042052038123,164.21042052038123,164.21042052038123,164.21042052038123,164.21042052038123,164.21042052038123,164.21042052038123,164.21042052038123,164.21042052038123,164.21042052038123,164.21042052038123,164.21042052038123,164.21042052038123,164.21042052038123,164.21042052038123,164.21042052038123,164.21042052038123,164.21042052038123,164.21042052038123,164.21042052038123,164.21042052038123,164.21042052038123,164.21042052038123,164.21042052038123,164.21042052038123,164.21042052038123,164.21042052038123,164.21042052038123,164.21042052038123,164.21042052038123,164.21042052038123,164.21042052038123,164.21042052038123,164.21042052038123,164.21042052038123,164.21042052038123,164.21042052038123,164.21042052038123,164.21042052038123,164.21042052038123,164.21042052038123,164.21042052038123,164.21042052038123,164.21042052038123,164.21042052038123,164.21042052038123,164.21042052038123,164.21042052038123,164.21042052038123,164.21042052038123,164.21042052038123,164.21042052038123,164.21042052038123,164.21042052038123,164.21042052038123,164.21042052038123,164.21042052038123,164.21042052038123,164.21042052038123,164.21042052038123,164.21042052038123,164.21042052038123],\"yaxis\":\"y\",\"type\":\"scatter\"}],                        {\"template\":{\"data\":{\"barpolar\":[{\"marker\":{\"line\":{\"color\":\"rgb(17,17,17)\",\"width\":0.5},\"pattern\":{\"fillmode\":\"overlay\",\"size\":10,\"solidity\":0.2}},\"type\":\"barpolar\"}],\"bar\":[{\"error_x\":{\"color\":\"#f2f5fa\"},\"error_y\":{\"color\":\"#f2f5fa\"},\"marker\":{\"line\":{\"color\":\"rgb(17,17,17)\",\"width\":0.5},\"pattern\":{\"fillmode\":\"overlay\",\"size\":10,\"solidity\":0.2}},\"type\":\"bar\"}],\"carpet\":[{\"aaxis\":{\"endlinecolor\":\"#A2B1C6\",\"gridcolor\":\"#506784\",\"linecolor\":\"#506784\",\"minorgridcolor\":\"#506784\",\"startlinecolor\":\"#A2B1C6\"},\"baxis\":{\"endlinecolor\":\"#A2B1C6\",\"gridcolor\":\"#506784\",\"linecolor\":\"#506784\",\"minorgridcolor\":\"#506784\",\"startlinecolor\":\"#A2B1C6\"},\"type\":\"carpet\"}],\"choropleth\":[{\"colorbar\":{\"outlinewidth\":0,\"ticks\":\"\"},\"type\":\"choropleth\"}],\"contourcarpet\":[{\"colorbar\":{\"outlinewidth\":0,\"ticks\":\"\"},\"type\":\"contourcarpet\"}],\"contour\":[{\"colorbar\":{\"outlinewidth\":0,\"ticks\":\"\"},\"colorscale\":[[0.0,\"#0d0887\"],[0.1111111111111111,\"#46039f\"],[0.2222222222222222,\"#7201a8\"],[0.3333333333333333,\"#9c179e\"],[0.4444444444444444,\"#bd3786\"],[0.5555555555555556,\"#d8576b\"],[0.6666666666666666,\"#ed7953\"],[0.7777777777777778,\"#fb9f3a\"],[0.8888888888888888,\"#fdca26\"],[1.0,\"#f0f921\"]],\"type\":\"contour\"}],\"heatmapgl\":[{\"colorbar\":{\"outlinewidth\":0,\"ticks\":\"\"},\"colorscale\":[[0.0,\"#0d0887\"],[0.1111111111111111,\"#46039f\"],[0.2222222222222222,\"#7201a8\"],[0.3333333333333333,\"#9c179e\"],[0.4444444444444444,\"#bd3786\"],[0.5555555555555556,\"#d8576b\"],[0.6666666666666666,\"#ed7953\"],[0.7777777777777778,\"#fb9f3a\"],[0.8888888888888888,\"#fdca26\"],[1.0,\"#f0f921\"]],\"type\":\"heatmapgl\"}],\"heatmap\":[{\"colorbar\":{\"outlinewidth\":0,\"ticks\":\"\"},\"colorscale\":[[0.0,\"#0d0887\"],[0.1111111111111111,\"#46039f\"],[0.2222222222222222,\"#7201a8\"],[0.3333333333333333,\"#9c179e\"],[0.4444444444444444,\"#bd3786\"],[0.5555555555555556,\"#d8576b\"],[0.6666666666666666,\"#ed7953\"],[0.7777777777777778,\"#fb9f3a\"],[0.8888888888888888,\"#fdca26\"],[1.0,\"#f0f921\"]],\"type\":\"heatmap\"}],\"histogram2dcontour\":[{\"colorbar\":{\"outlinewidth\":0,\"ticks\":\"\"},\"colorscale\":[[0.0,\"#0d0887\"],[0.1111111111111111,\"#46039f\"],[0.2222222222222222,\"#7201a8\"],[0.3333333333333333,\"#9c179e\"],[0.4444444444444444,\"#bd3786\"],[0.5555555555555556,\"#d8576b\"],[0.6666666666666666,\"#ed7953\"],[0.7777777777777778,\"#fb9f3a\"],[0.8888888888888888,\"#fdca26\"],[1.0,\"#f0f921\"]],\"type\":\"histogram2dcontour\"}],\"histogram2d\":[{\"colorbar\":{\"outlinewidth\":0,\"ticks\":\"\"},\"colorscale\":[[0.0,\"#0d0887\"],[0.1111111111111111,\"#46039f\"],[0.2222222222222222,\"#7201a8\"],[0.3333333333333333,\"#9c179e\"],[0.4444444444444444,\"#bd3786\"],[0.5555555555555556,\"#d8576b\"],[0.6666666666666666,\"#ed7953\"],[0.7777777777777778,\"#fb9f3a\"],[0.8888888888888888,\"#fdca26\"],[1.0,\"#f0f921\"]],\"type\":\"histogram2d\"}],\"histogram\":[{\"marker\":{\"pattern\":{\"fillmode\":\"overlay\",\"size\":10,\"solidity\":0.2}},\"type\":\"histogram\"}],\"mesh3d\":[{\"colorbar\":{\"outlinewidth\":0,\"ticks\":\"\"},\"type\":\"mesh3d\"}],\"parcoords\":[{\"line\":{\"colorbar\":{\"outlinewidth\":0,\"ticks\":\"\"}},\"type\":\"parcoords\"}],\"pie\":[{\"automargin\":true,\"type\":\"pie\"}],\"scatter3d\":[{\"line\":{\"colorbar\":{\"outlinewidth\":0,\"ticks\":\"\"}},\"marker\":{\"colorbar\":{\"outlinewidth\":0,\"ticks\":\"\"}},\"type\":\"scatter3d\"}],\"scattercarpet\":[{\"marker\":{\"colorbar\":{\"outlinewidth\":0,\"ticks\":\"\"}},\"type\":\"scattercarpet\"}],\"scattergeo\":[{\"marker\":{\"colorbar\":{\"outlinewidth\":0,\"ticks\":\"\"}},\"type\":\"scattergeo\"}],\"scattergl\":[{\"marker\":{\"line\":{\"color\":\"#283442\"}},\"type\":\"scattergl\"}],\"scattermapbox\":[{\"marker\":{\"colorbar\":{\"outlinewidth\":0,\"ticks\":\"\"}},\"type\":\"scattermapbox\"}],\"scatterpolargl\":[{\"marker\":{\"colorbar\":{\"outlinewidth\":0,\"ticks\":\"\"}},\"type\":\"scatterpolargl\"}],\"scatterpolar\":[{\"marker\":{\"colorbar\":{\"outlinewidth\":0,\"ticks\":\"\"}},\"type\":\"scatterpolar\"}],\"scatter\":[{\"marker\":{\"line\":{\"color\":\"#283442\"}},\"type\":\"scatter\"}],\"scatterternary\":[{\"marker\":{\"colorbar\":{\"outlinewidth\":0,\"ticks\":\"\"}},\"type\":\"scatterternary\"}],\"surface\":[{\"colorbar\":{\"outlinewidth\":0,\"ticks\":\"\"},\"colorscale\":[[0.0,\"#0d0887\"],[0.1111111111111111,\"#46039f\"],[0.2222222222222222,\"#7201a8\"],[0.3333333333333333,\"#9c179e\"],[0.4444444444444444,\"#bd3786\"],[0.5555555555555556,\"#d8576b\"],[0.6666666666666666,\"#ed7953\"],[0.7777777777777778,\"#fb9f3a\"],[0.8888888888888888,\"#fdca26\"],[1.0,\"#f0f921\"]],\"type\":\"surface\"}],\"table\":[{\"cells\":{\"fill\":{\"color\":\"#506784\"},\"line\":{\"color\":\"rgb(17,17,17)\"}},\"header\":{\"fill\":{\"color\":\"#2a3f5f\"},\"line\":{\"color\":\"rgb(17,17,17)\"}},\"type\":\"table\"}]},\"layout\":{\"annotationdefaults\":{\"arrowcolor\":\"#f2f5fa\",\"arrowhead\":0,\"arrowwidth\":1},\"autotypenumbers\":\"strict\",\"coloraxis\":{\"colorbar\":{\"outlinewidth\":0,\"ticks\":\"\"}},\"colorscale\":{\"diverging\":[[0,\"#8e0152\"],[0.1,\"#c51b7d\"],[0.2,\"#de77ae\"],[0.3,\"#f1b6da\"],[0.4,\"#fde0ef\"],[0.5,\"#f7f7f7\"],[0.6,\"#e6f5d0\"],[0.7,\"#b8e186\"],[0.8,\"#7fbc41\"],[0.9,\"#4d9221\"],[1,\"#276419\"]],\"sequential\":[[0.0,\"#0d0887\"],[0.1111111111111111,\"#46039f\"],[0.2222222222222222,\"#7201a8\"],[0.3333333333333333,\"#9c179e\"],[0.4444444444444444,\"#bd3786\"],[0.5555555555555556,\"#d8576b\"],[0.6666666666666666,\"#ed7953\"],[0.7777777777777778,\"#fb9f3a\"],[0.8888888888888888,\"#fdca26\"],[1.0,\"#f0f921\"]],\"sequentialminus\":[[0.0,\"#0d0887\"],[0.1111111111111111,\"#46039f\"],[0.2222222222222222,\"#7201a8\"],[0.3333333333333333,\"#9c179e\"],[0.4444444444444444,\"#bd3786\"],[0.5555555555555556,\"#d8576b\"],[0.6666666666666666,\"#ed7953\"],[0.7777777777777778,\"#fb9f3a\"],[0.8888888888888888,\"#fdca26\"],[1.0,\"#f0f921\"]]},\"colorway\":[\"#636efa\",\"#EF553B\",\"#00cc96\",\"#ab63fa\",\"#FFA15A\",\"#19d3f3\",\"#FF6692\",\"#B6E880\",\"#FF97FF\",\"#FECB52\"],\"font\":{\"color\":\"#f2f5fa\"},\"geo\":{\"bgcolor\":\"rgb(17,17,17)\",\"lakecolor\":\"rgb(17,17,17)\",\"landcolor\":\"rgb(17,17,17)\",\"showlakes\":true,\"showland\":true,\"subunitcolor\":\"#506784\"},\"hoverlabel\":{\"align\":\"left\"},\"hovermode\":\"closest\",\"mapbox\":{\"style\":\"dark\"},\"paper_bgcolor\":\"rgb(17,17,17)\",\"plot_bgcolor\":\"rgb(17,17,17)\",\"polar\":{\"angularaxis\":{\"gridcolor\":\"#506784\",\"linecolor\":\"#506784\",\"ticks\":\"\"},\"bgcolor\":\"rgb(17,17,17)\",\"radialaxis\":{\"gridcolor\":\"#506784\",\"linecolor\":\"#506784\",\"ticks\":\"\"}},\"scene\":{\"xaxis\":{\"backgroundcolor\":\"rgb(17,17,17)\",\"gridcolor\":\"#506784\",\"gridwidth\":2,\"linecolor\":\"#506784\",\"showbackground\":true,\"ticks\":\"\",\"zerolinecolor\":\"#C8D4E3\"},\"yaxis\":{\"backgroundcolor\":\"rgb(17,17,17)\",\"gridcolor\":\"#506784\",\"gridwidth\":2,\"linecolor\":\"#506784\",\"showbackground\":true,\"ticks\":\"\",\"zerolinecolor\":\"#C8D4E3\"},\"zaxis\":{\"backgroundcolor\":\"rgb(17,17,17)\",\"gridcolor\":\"#506784\",\"gridwidth\":2,\"linecolor\":\"#506784\",\"showbackground\":true,\"ticks\":\"\",\"zerolinecolor\":\"#C8D4E3\"}},\"shapedefaults\":{\"line\":{\"color\":\"#f2f5fa\"}},\"sliderdefaults\":{\"bgcolor\":\"#C8D4E3\",\"bordercolor\":\"rgb(17,17,17)\",\"borderwidth\":1,\"tickwidth\":0},\"ternary\":{\"aaxis\":{\"gridcolor\":\"#506784\",\"linecolor\":\"#506784\",\"ticks\":\"\"},\"baxis\":{\"gridcolor\":\"#506784\",\"linecolor\":\"#506784\",\"ticks\":\"\"},\"bgcolor\":\"rgb(17,17,17)\",\"caxis\":{\"gridcolor\":\"#506784\",\"linecolor\":\"#506784\",\"ticks\":\"\"}},\"title\":{\"x\":0.05},\"updatemenudefaults\":{\"bgcolor\":\"#506784\",\"borderwidth\":0},\"xaxis\":{\"automargin\":true,\"gridcolor\":\"#283442\",\"linecolor\":\"#506784\",\"ticks\":\"\",\"title\":{\"standoff\":15},\"zerolinecolor\":\"#283442\",\"zerolinewidth\":2},\"yaxis\":{\"automargin\":true,\"gridcolor\":\"#283442\",\"linecolor\":\"#506784\",\"ticks\":\"\",\"title\":{\"standoff\":15},\"zerolinecolor\":\"#283442\",\"zerolinewidth\":2}}},\"xaxis\":{\"anchor\":\"y\",\"domain\":[0.0,1.0],\"title\":{\"text\":\"epoch\"},\"tickangle\":-45},\"yaxis\":{\"anchor\":\"x\",\"domain\":[0.0,1.0],\"title\":{\"text\":\"Cost\"}},\"legend\":{\"tracegroupgap\":0},\"title\":{\"text\":\"Loss vs Epoch\"},\"height\":600},                        {\"responsive\": true}                    ).then(function(){\n",
       "                            \n",
       "var gd = document.getElementById('a3c248af-df20-4af4-9da3-d03f7c40862d');\n",
       "var x = new MutationObserver(function (mutations, observer) {{\n",
       "        var display = window.getComputedStyle(gd).display;\n",
       "        if (!display || display === 'none') {{\n",
       "            console.log([gd, 'removed!']);\n",
       "            Plotly.purge(gd);\n",
       "            observer.disconnect();\n",
       "        }}\n",
       "}});\n",
       "\n",
       "// Listen for the removal of the full notebook cells\n",
       "var notebookContainer = gd.closest('#notebook-container');\n",
       "if (notebookContainer) {{\n",
       "    x.observe(notebookContainer, {childList: true});\n",
       "}}\n",
       "\n",
       "// Listen for the clearing of the current output cell\n",
       "var outputEl = gd.closest('.output');\n",
       "if (outputEl) {{\n",
       "    x.observe(outputEl, {childList: true});\n",
       "}}\n",
       "\n",
       "                        })                };                });            </script>        </div>"
      ]
     },
     "metadata": {},
     "output_type": "display_data"
    }
   ],
   "source": [
    "fig = px.line(\n",
    "    ep_cost, \n",
    "    y=\"least_cost\", \n",
    "    x=\"epoch\", \n",
    "    labels={\n",
    "        \"least_cost\": \"Cost\"\n",
    "    },\n",
    "    height=600,\n",
    "    markers=True,\n",
    "    title=\"Loss vs Epoch\", \n",
    ")\n",
    "fig.layout.template = \"plotly_dark\"\n",
    "fig.update_xaxes(\n",
    "    tickangle = -45,\n",
    ")\n",
    "fig.show()"
   ]
  },
  {
   "cell_type": "code",
   "execution_count": 80,
   "metadata": {
    "cell_id": "27710a99b904472892e60f05b2db129d",
    "deepnote_cell_type": "visualization",
    "deepnote_to_be_reexecuted": false,
    "deepnote_variable_name": "ep_cost",
    "deepnote_visualization_spec": {
     "$schema": "https://vega.github.io/schema/vega-lite/v4.json",
     "encoding": {
      "color": {
       "field": "",
       "scale": {
        "type": "linear",
        "zero": false
       },
       "sort": null,
       "type": "nominal"
      },
      "x": {
       "field": "epoch",
       "scale": {
        "type": "linear",
        "zero": false
       },
       "sort": null,
       "type": "quantitative"
      },
      "y": {
       "field": "accuracy",
       "scale": {
        "type": "linear",
        "zero": false
       },
       "sort": null,
       "type": "quantitative"
      }
     },
     "mark": {
      "tooltip": true,
      "type": "line"
     }
    },
    "execution_millis": 251,
    "execution_start": 1667571728876,
    "source_hash": "c404d5ba"
   },
   "outputs": [
    {
     "data": {
      "application/vnd.plotly.v1+json": {
       "config": {
        "plotlyServerURL": "https://plot.ly"
       },
       "data": [
        {
         "hovertemplate": "epoch=%{x}<br>Accuracy=%{y}<extra></extra>",
         "legendgroup": "",
         "line": {
          "color": "#636efa",
          "dash": "solid"
         },
         "marker": {
          "symbol": "circle"
         },
         "mode": "lines+markers",
         "name": "",
         "orientation": "v",
         "showlegend": false,
         "type": "scatter",
         "x": [
          0,
          1,
          2,
          3,
          4,
          5,
          6,
          7,
          8,
          9,
          10,
          11,
          12,
          13,
          14,
          15,
          16,
          17,
          18,
          19,
          20,
          21,
          22,
          23,
          24,
          25,
          26,
          27,
          28,
          29,
          30,
          31,
          32,
          33,
          34,
          35,
          36,
          37,
          38,
          39,
          40,
          41,
          42,
          43,
          44,
          45,
          46,
          47,
          48,
          49,
          50,
          51,
          52,
          53,
          54,
          55,
          56,
          57,
          58,
          59,
          60,
          61,
          62,
          63,
          64,
          65,
          66,
          67,
          68,
          69,
          70,
          71,
          72,
          73,
          74,
          75,
          76,
          77,
          78,
          79,
          80,
          81,
          82,
          83,
          84,
          85,
          86,
          87,
          88,
          89,
          90,
          91,
          92,
          93,
          94,
          95,
          96,
          97,
          98,
          99,
          100,
          101,
          102,
          103,
          104,
          105,
          106,
          107,
          108,
          109,
          110,
          111,
          112,
          113,
          114,
          115,
          116,
          117,
          118,
          119,
          120,
          121,
          122,
          123,
          124,
          125,
          126,
          127,
          128,
          129,
          130,
          131,
          132,
          133,
          134,
          135,
          136,
          137,
          138,
          139,
          140,
          141,
          142,
          143,
          144,
          145,
          146,
          147,
          148,
          149,
          150,
          151,
          152,
          153,
          154,
          155,
          156,
          157,
          158,
          159,
          160,
          161,
          162,
          163,
          164,
          165,
          166,
          167,
          168,
          169,
          170,
          171,
          172,
          173,
          174,
          175,
          176,
          177,
          178,
          179,
          180,
          181,
          182,
          183,
          184,
          185,
          186,
          187,
          188,
          189,
          190,
          191,
          192,
          193,
          194,
          195,
          196,
          197,
          198,
          199,
          200,
          201,
          202,
          203,
          204,
          205,
          206,
          207,
          208,
          209,
          210,
          211,
          212,
          213,
          214,
          215,
          216,
          217,
          218,
          219,
          220,
          221,
          222,
          223,
          224,
          225,
          226,
          227,
          228,
          229,
          230,
          231,
          232,
          233,
          234,
          235,
          236,
          237,
          238,
          239,
          240,
          241,
          242,
          243,
          244,
          245,
          246,
          247,
          248,
          249,
          250,
          251,
          252,
          253,
          254,
          255,
          256,
          257,
          258,
          259,
          260,
          261,
          262,
          263,
          264,
          265,
          266,
          267,
          268,
          269,
          270,
          271,
          272,
          273,
          274,
          275,
          276,
          277,
          278,
          279,
          280,
          281,
          282,
          283,
          284,
          285,
          286,
          287,
          288,
          289,
          290,
          291,
          292,
          293,
          294,
          295,
          296,
          297,
          298,
          299,
          300,
          301,
          302,
          303,
          304,
          305,
          306,
          307,
          308,
          309,
          310,
          311,
          312,
          313,
          314,
          315,
          316,
          317,
          318,
          319,
          320,
          321,
          322,
          323,
          324,
          325,
          326,
          327,
          328,
          329,
          330,
          331,
          332,
          333,
          334,
          335,
          336,
          337,
          338,
          339,
          340,
          341,
          342,
          343,
          344,
          345,
          346,
          347,
          348,
          349,
          350,
          351,
          352,
          353,
          354,
          355,
          356,
          357,
          358,
          359,
          360,
          361,
          362,
          363,
          364,
          365,
          366,
          367,
          368,
          369,
          370,
          371,
          372,
          373,
          374,
          375,
          376,
          377,
          378,
          379,
          380,
          381,
          382,
          383,
          384,
          385,
          386,
          387,
          388,
          389,
          390,
          391,
          392,
          393,
          394,
          395,
          396,
          397,
          398,
          399,
          400,
          401,
          402,
          403,
          404,
          405,
          406,
          407,
          408,
          409,
          410,
          411,
          412,
          413,
          414,
          415,
          416,
          417,
          418,
          419,
          420,
          421,
          422,
          423,
          424,
          425,
          426,
          427,
          428,
          429,
          430,
          431,
          432,
          433,
          434,
          435,
          436,
          437,
          438,
          439,
          440,
          441,
          442,
          443,
          444,
          445,
          446,
          447,
          448,
          449,
          450,
          451,
          452,
          453,
          454,
          455,
          456,
          457,
          458,
          459,
          460,
          461,
          462,
          463,
          464,
          465,
          466,
          467,
          468,
          469,
          470,
          471,
          472,
          473,
          474,
          475,
          476,
          477,
          478,
          479,
          480,
          481,
          482,
          483,
          484,
          485,
          486,
          487,
          488,
          489,
          490,
          491,
          492,
          493,
          494,
          495,
          496,
          497,
          498,
          499
         ],
         "xaxis": "x",
         "y": [
          0.3333333333333333,
          0.3333333333333333,
          0.3333333333333333,
          0.3333333333333333,
          0.3333333333333333,
          0.3333333333333333,
          0.3333333333333333,
          0.3333333333333333,
          0.3333333333333333,
          0.3333333333333333,
          0.3333333333333333,
          0.3333333333333333,
          0.3333333333333333,
          0.3333333333333333,
          0.3333333333333333,
          0.3333333333333333,
          0.3333333333333333,
          0.3333333333333333,
          0.3333333333333333,
          0.3333333333333333,
          0.3333333333333333,
          0.3333333333333333,
          0.3333333333333333,
          0.3333333333333333,
          0.3333333333333333,
          0.3333333333333333,
          0.3333333333333333,
          0.3333333333333333,
          0.3333333333333333,
          0.3333333333333333,
          0.3333333333333333,
          0.3333333333333333,
          0.3333333333333333,
          0.3333333333333333,
          0.3333333333333333,
          0.3333333333333333,
          0.3333333333333333,
          0.3333333333333333,
          0.3333333333333333,
          0.3333333333333333,
          0.3333333333333333,
          0.3333333333333333,
          0.3333333333333333,
          0.3333333333333333,
          0.3333333333333333,
          0.3333333333333333,
          0.3333333333333333,
          0.3333333333333333,
          0.3333333333333333,
          0.3333333333333333,
          0.3333333333333333,
          0.3333333333333333,
          0.3333333333333333,
          0.3333333333333333,
          0.3333333333333333,
          0.3333333333333333,
          0.3333333333333333,
          0.3333333333333333,
          0.3333333333333333,
          0.3333333333333333,
          0.3333333333333333,
          0.3333333333333333,
          0.3333333333333333,
          0.3333333333333333,
          0.3333333333333333,
          0.3333333333333333,
          0.3333333333333333,
          0.3333333333333333,
          0.3333333333333333,
          0.3333333333333333,
          0.3333333333333333,
          0.3333333333333333,
          0.3333333333333333,
          0.3333333333333333,
          0.3333333333333333,
          0.3333333333333333,
          0.3333333333333333,
          0.3333333333333333,
          0.3333333333333333,
          0.3333333333333333,
          0.3333333333333333,
          0.3333333333333333,
          0.3333333333333333,
          0.3333333333333333,
          0.3333333333333333,
          0.3333333333333333,
          0.3333333333333333,
          0.3333333333333333,
          0.3333333333333333,
          0.3333333333333333,
          0.3333333333333333,
          0.3333333333333333,
          0.3333333333333333,
          0.3333333333333333,
          0.3333333333333333,
          0.3333333333333333,
          0.3333333333333333,
          0.3333333333333333,
          0.3333333333333333,
          0.3333333333333333,
          0.3333333333333333,
          0.3333333333333333,
          0.3333333333333333,
          0.3333333333333333,
          0.3333333333333333,
          0.3333333333333333,
          0.3333333333333333,
          0.3333333333333333,
          0.3333333333333333,
          0.3333333333333333,
          0.3333333333333333,
          0.3333333333333333,
          0.3333333333333333,
          0.3333333333333333,
          0.3333333333333333,
          0.3333333333333333,
          0.3333333333333333,
          0.3333333333333333,
          0.3333333333333333,
          0.3333333333333333,
          0.3333333333333333,
          0.3333333333333333,
          0.3333333333333333,
          0.3333333333333333,
          0.3333333333333333,
          0.3333333333333333,
          0.3333333333333333,
          0.3333333333333333,
          0.3333333333333333,
          0.3333333333333333,
          0.3333333333333333,
          0.3333333333333333,
          0.3333333333333333,
          0.3333333333333333,
          0.3333333333333333,
          0.3333333333333333,
          0.3333333333333333,
          0.3333333333333333,
          0.3333333333333333,
          0.3333333333333333,
          0.3333333333333333,
          0.3333333333333333,
          0.3333333333333333,
          0.3333333333333333,
          0.3333333333333333,
          0.3333333333333333,
          0.3333333333333333,
          0.3333333333333333,
          0.3333333333333333,
          0.3333333333333333,
          0.3333333333333333,
          0.3333333333333333,
          0.3333333333333333,
          0.3333333333333333,
          0.3333333333333333,
          0.3333333333333333,
          0.3333333333333333,
          0.3333333333333333,
          0.3333333333333333,
          0.3333333333333333,
          0.3333333333333333,
          0.3333333333333333,
          0.3333333333333333,
          0.3333333333333333,
          0.3333333333333333,
          0.3333333333333333,
          0.3333333333333333,
          0.3333333333333333,
          0.3333333333333333,
          0.3333333333333333,
          0.3333333333333333,
          0.3333333333333333,
          0.3333333333333333,
          0.3333333333333333,
          0.3333333333333333,
          0.3333333333333333,
          0.3333333333333333,
          0.3333333333333333,
          0.3333333333333333,
          0.3333333333333333,
          0.3333333333333333,
          0.3333333333333333,
          0.3333333333333333,
          0.3333333333333333,
          0.3333333333333333,
          0.3333333333333333,
          0.3333333333333333,
          0.3333333333333333,
          0.3333333333333333,
          0.3333333333333333,
          0.3333333333333333,
          0.3333333333333333,
          0.3333333333333333,
          0.3333333333333333,
          0.3333333333333333,
          0.3333333333333333,
          0.3333333333333333,
          0.3333333333333333,
          0.3333333333333333,
          0.3333333333333333,
          0.3333333333333333,
          0.3333333333333333,
          0.3333333333333333,
          0.3333333333333333,
          0.3333333333333333,
          0.3333333333333333,
          0.3333333333333333,
          0.3333333333333333,
          0.3333333333333333,
          0.3333333333333333,
          0.3333333333333333,
          0.3333333333333333,
          0.3333333333333333,
          0.3333333333333333,
          0.3333333333333333,
          0.3333333333333333,
          0.3333333333333333,
          0.3333333333333333,
          0.3333333333333333,
          0.3333333333333333,
          0.3333333333333333,
          0.3333333333333333,
          0.3333333333333333,
          0.3333333333333333,
          0.3333333333333333,
          0.3333333333333333,
          0.3333333333333333,
          0.3333333333333333,
          0.3333333333333333,
          0.3333333333333333,
          0.3333333333333333,
          0.3333333333333333,
          0.3333333333333333,
          0.3333333333333333,
          0.3333333333333333,
          0.3333333333333333,
          0.3333333333333333,
          0.3333333333333333,
          0.3333333333333333,
          0.3333333333333333,
          0.3333333333333333,
          0.3333333333333333,
          0.3333333333333333,
          0.3333333333333333,
          0.3333333333333333,
          0.3333333333333333,
          0.3333333333333333,
          0.3333333333333333,
          0.3333333333333333,
          0.3333333333333333,
          0.3333333333333333,
          0.3333333333333333,
          0.3333333333333333,
          0.3333333333333333,
          0.3333333333333333,
          0.3333333333333333,
          0.3333333333333333,
          0.3333333333333333,
          0.3333333333333333,
          0.3333333333333333,
          0.3333333333333333,
          0.3333333333333333,
          0.3333333333333333,
          0.3333333333333333,
          0.3333333333333333,
          0.3333333333333333,
          0.3333333333333333,
          0.3333333333333333,
          0.3333333333333333,
          0.3333333333333333,
          0.3333333333333333,
          0.3333333333333333,
          0.3333333333333333,
          0.3333333333333333,
          0.3333333333333333,
          0.3333333333333333,
          0.3333333333333333,
          0.3333333333333333,
          0.3333333333333333,
          0.3333333333333333,
          0.3333333333333333,
          0.3333333333333333,
          0.3333333333333333,
          0.3333333333333333,
          0.3333333333333333,
          0.3333333333333333,
          0.3333333333333333,
          0.3333333333333333,
          0.3333333333333333,
          0.3333333333333333,
          0.3333333333333333,
          0.3333333333333333,
          0.3333333333333333,
          0.3333333333333333,
          0.3333333333333333,
          0.3333333333333333,
          0.3333333333333333,
          0.3333333333333333,
          0.3333333333333333,
          0.3333333333333333,
          0.3333333333333333,
          0.3333333333333333,
          0.3333333333333333,
          0.3333333333333333,
          0.3333333333333333,
          0.3333333333333333,
          0.3333333333333333,
          0.3333333333333333,
          0.3333333333333333,
          0.3333333333333333,
          0.3333333333333333,
          0.3333333333333333,
          0.3333333333333333,
          0.3333333333333333,
          0.3333333333333333,
          0.3333333333333333,
          0.3333333333333333,
          0.3333333333333333,
          0.3333333333333333,
          0.3333333333333333,
          0.3333333333333333,
          0.3333333333333333,
          0.3333333333333333,
          0.3333333333333333,
          0.3333333333333333,
          0.3333333333333333,
          0.3333333333333333,
          0.3333333333333333,
          0.3333333333333333,
          0.3333333333333333,
          0.3333333333333333,
          0.3333333333333333,
          0.3333333333333333,
          0.3333333333333333,
          0.3333333333333333,
          0.3333333333333333,
          0.3333333333333333,
          0.3333333333333333,
          0.3333333333333333,
          0.3333333333333333,
          0.3333333333333333,
          0.3333333333333333,
          0.3333333333333333,
          0.3333333333333333,
          0.3333333333333333,
          0.3333333333333333,
          0.3333333333333333,
          0.3333333333333333,
          0.3333333333333333,
          0.3333333333333333,
          0.3333333333333333,
          0.3333333333333333,
          0.3333333333333333,
          0.3333333333333333,
          0.3333333333333333,
          0.3333333333333333,
          0.3333333333333333,
          0.3333333333333333,
          0.3333333333333333,
          0.3333333333333333,
          0.3333333333333333,
          0.3333333333333333,
          0.3333333333333333,
          0.3333333333333333,
          0.3333333333333333,
          0.3333333333333333,
          0.3333333333333333,
          0.3333333333333333,
          0.3333333333333333,
          0.3333333333333333,
          0.3333333333333333,
          0.3333333333333333,
          0.3333333333333333,
          0.3333333333333333,
          0.3333333333333333,
          0.3333333333333333,
          0.3333333333333333,
          0.3333333333333333,
          0.3333333333333333,
          0.3333333333333333,
          0.3333333333333333,
          0.3333333333333333,
          0.3333333333333333,
          0.3333333333333333,
          0.3333333333333333,
          0.3333333333333333,
          0.3333333333333333,
          0.3333333333333333,
          0.3333333333333333,
          0.3333333333333333,
          0.3333333333333333,
          0.3333333333333333,
          0.3333333333333333,
          0.3333333333333333,
          0.3333333333333333,
          0.3333333333333333,
          0.3333333333333333,
          0.3333333333333333,
          0.3333333333333333,
          0.3333333333333333,
          0.3333333333333333,
          0.3333333333333333,
          0.3333333333333333,
          0.3333333333333333,
          0.3333333333333333,
          0.3333333333333333,
          0.3333333333333333,
          0.3333333333333333,
          0.3333333333333333,
          0.3333333333333333,
          0.3333333333333333,
          0.3333333333333333,
          0.3333333333333333,
          0.3333333333333333,
          0.3333333333333333,
          0.3333333333333333,
          0.3333333333333333,
          0.3333333333333333,
          0.3333333333333333,
          0.3333333333333333,
          0.3333333333333333,
          0.3333333333333333,
          0.3333333333333333,
          0.3333333333333333,
          0.3333333333333333,
          0.3333333333333333,
          0.3333333333333333,
          0.3333333333333333,
          0.3333333333333333,
          0.3333333333333333,
          0.3333333333333333,
          0.3333333333333333,
          0.3333333333333333,
          0.3333333333333333,
          0.3333333333333333,
          0.3333333333333333,
          0.3333333333333333,
          0.3333333333333333,
          0.3333333333333333,
          0.3333333333333333,
          0.3333333333333333,
          0.3333333333333333,
          0.3333333333333333,
          0.3333333333333333,
          0.3333333333333333,
          0.3333333333333333,
          0.3333333333333333,
          0.3333333333333333,
          0.3333333333333333,
          0.3333333333333333,
          0.3333333333333333,
          0.3333333333333333,
          0.3333333333333333,
          0.3333333333333333,
          0.3333333333333333,
          0.3333333333333333,
          0.3333333333333333,
          0.3333333333333333,
          0.3333333333333333,
          0.3333333333333333,
          0.3333333333333333,
          0.3333333333333333,
          0.3333333333333333,
          0.3333333333333333,
          0.3333333333333333,
          0.3333333333333333,
          0.3333333333333333,
          0.3333333333333333,
          0.3333333333333333,
          0.3333333333333333,
          0.3333333333333333,
          0.3333333333333333,
          0.3333333333333333,
          0.3333333333333333,
          0.3333333333333333,
          0.3333333333333333,
          0.3333333333333333,
          0.3333333333333333,
          0.3333333333333333,
          0.3333333333333333,
          0.3333333333333333,
          0.3333333333333333,
          0.3333333333333333,
          0.3333333333333333,
          0.3333333333333333,
          0.3333333333333333,
          0.3333333333333333,
          0.3333333333333333,
          0.3333333333333333,
          0.3333333333333333,
          0.3333333333333333,
          0.3333333333333333,
          0.3333333333333333,
          0.3333333333333333,
          0.3333333333333333,
          0.3333333333333333,
          0.3333333333333333,
          0.3333333333333333,
          0.3333333333333333,
          0.3333333333333333
         ],
         "yaxis": "y"
        }
       ],
       "layout": {
        "autosize": true,
        "legend": {
         "tracegroupgap": 0
        },
        "template": {
         "data": {
          "bar": [
           {
            "error_x": {
             "color": "#f2f5fa"
            },
            "error_y": {
             "color": "#f2f5fa"
            },
            "marker": {
             "line": {
              "color": "rgb(17,17,17)",
              "width": 0.5
             },
             "pattern": {
              "fillmode": "overlay",
              "size": 10,
              "solidity": 0.2
             }
            },
            "type": "bar"
           }
          ],
          "barpolar": [
           {
            "marker": {
             "line": {
              "color": "rgb(17,17,17)",
              "width": 0.5
             },
             "pattern": {
              "fillmode": "overlay",
              "size": 10,
              "solidity": 0.2
             }
            },
            "type": "barpolar"
           }
          ],
          "carpet": [
           {
            "aaxis": {
             "endlinecolor": "#A2B1C6",
             "gridcolor": "#506784",
             "linecolor": "#506784",
             "minorgridcolor": "#506784",
             "startlinecolor": "#A2B1C6"
            },
            "baxis": {
             "endlinecolor": "#A2B1C6",
             "gridcolor": "#506784",
             "linecolor": "#506784",
             "minorgridcolor": "#506784",
             "startlinecolor": "#A2B1C6"
            },
            "type": "carpet"
           }
          ],
          "choropleth": [
           {
            "colorbar": {
             "outlinewidth": 0,
             "ticks": ""
            },
            "type": "choropleth"
           }
          ],
          "contour": [
           {
            "colorbar": {
             "outlinewidth": 0,
             "ticks": ""
            },
            "colorscale": [
             [
              0,
              "#0d0887"
             ],
             [
              0.1111111111111111,
              "#46039f"
             ],
             [
              0.2222222222222222,
              "#7201a8"
             ],
             [
              0.3333333333333333,
              "#9c179e"
             ],
             [
              0.4444444444444444,
              "#bd3786"
             ],
             [
              0.5555555555555556,
              "#d8576b"
             ],
             [
              0.6666666666666666,
              "#ed7953"
             ],
             [
              0.7777777777777778,
              "#fb9f3a"
             ],
             [
              0.8888888888888888,
              "#fdca26"
             ],
             [
              1,
              "#f0f921"
             ]
            ],
            "type": "contour"
           }
          ],
          "contourcarpet": [
           {
            "colorbar": {
             "outlinewidth": 0,
             "ticks": ""
            },
            "type": "contourcarpet"
           }
          ],
          "heatmap": [
           {
            "colorbar": {
             "outlinewidth": 0,
             "ticks": ""
            },
            "colorscale": [
             [
              0,
              "#0d0887"
             ],
             [
              0.1111111111111111,
              "#46039f"
             ],
             [
              0.2222222222222222,
              "#7201a8"
             ],
             [
              0.3333333333333333,
              "#9c179e"
             ],
             [
              0.4444444444444444,
              "#bd3786"
             ],
             [
              0.5555555555555556,
              "#d8576b"
             ],
             [
              0.6666666666666666,
              "#ed7953"
             ],
             [
              0.7777777777777778,
              "#fb9f3a"
             ],
             [
              0.8888888888888888,
              "#fdca26"
             ],
             [
              1,
              "#f0f921"
             ]
            ],
            "type": "heatmap"
           }
          ],
          "heatmapgl": [
           {
            "colorbar": {
             "outlinewidth": 0,
             "ticks": ""
            },
            "colorscale": [
             [
              0,
              "#0d0887"
             ],
             [
              0.1111111111111111,
              "#46039f"
             ],
             [
              0.2222222222222222,
              "#7201a8"
             ],
             [
              0.3333333333333333,
              "#9c179e"
             ],
             [
              0.4444444444444444,
              "#bd3786"
             ],
             [
              0.5555555555555556,
              "#d8576b"
             ],
             [
              0.6666666666666666,
              "#ed7953"
             ],
             [
              0.7777777777777778,
              "#fb9f3a"
             ],
             [
              0.8888888888888888,
              "#fdca26"
             ],
             [
              1,
              "#f0f921"
             ]
            ],
            "type": "heatmapgl"
           }
          ],
          "histogram": [
           {
            "marker": {
             "pattern": {
              "fillmode": "overlay",
              "size": 10,
              "solidity": 0.2
             }
            },
            "type": "histogram"
           }
          ],
          "histogram2d": [
           {
            "colorbar": {
             "outlinewidth": 0,
             "ticks": ""
            },
            "colorscale": [
             [
              0,
              "#0d0887"
             ],
             [
              0.1111111111111111,
              "#46039f"
             ],
             [
              0.2222222222222222,
              "#7201a8"
             ],
             [
              0.3333333333333333,
              "#9c179e"
             ],
             [
              0.4444444444444444,
              "#bd3786"
             ],
             [
              0.5555555555555556,
              "#d8576b"
             ],
             [
              0.6666666666666666,
              "#ed7953"
             ],
             [
              0.7777777777777778,
              "#fb9f3a"
             ],
             [
              0.8888888888888888,
              "#fdca26"
             ],
             [
              1,
              "#f0f921"
             ]
            ],
            "type": "histogram2d"
           }
          ],
          "histogram2dcontour": [
           {
            "colorbar": {
             "outlinewidth": 0,
             "ticks": ""
            },
            "colorscale": [
             [
              0,
              "#0d0887"
             ],
             [
              0.1111111111111111,
              "#46039f"
             ],
             [
              0.2222222222222222,
              "#7201a8"
             ],
             [
              0.3333333333333333,
              "#9c179e"
             ],
             [
              0.4444444444444444,
              "#bd3786"
             ],
             [
              0.5555555555555556,
              "#d8576b"
             ],
             [
              0.6666666666666666,
              "#ed7953"
             ],
             [
              0.7777777777777778,
              "#fb9f3a"
             ],
             [
              0.8888888888888888,
              "#fdca26"
             ],
             [
              1,
              "#f0f921"
             ]
            ],
            "type": "histogram2dcontour"
           }
          ],
          "mesh3d": [
           {
            "colorbar": {
             "outlinewidth": 0,
             "ticks": ""
            },
            "type": "mesh3d"
           }
          ],
          "parcoords": [
           {
            "line": {
             "colorbar": {
              "outlinewidth": 0,
              "ticks": ""
             }
            },
            "type": "parcoords"
           }
          ],
          "pie": [
           {
            "automargin": true,
            "type": "pie"
           }
          ],
          "scatter": [
           {
            "marker": {
             "line": {
              "color": "#283442"
             }
            },
            "type": "scatter"
           }
          ],
          "scatter3d": [
           {
            "line": {
             "colorbar": {
              "outlinewidth": 0,
              "ticks": ""
             }
            },
            "marker": {
             "colorbar": {
              "outlinewidth": 0,
              "ticks": ""
             }
            },
            "type": "scatter3d"
           }
          ],
          "scattercarpet": [
           {
            "marker": {
             "colorbar": {
              "outlinewidth": 0,
              "ticks": ""
             }
            },
            "type": "scattercarpet"
           }
          ],
          "scattergeo": [
           {
            "marker": {
             "colorbar": {
              "outlinewidth": 0,
              "ticks": ""
             }
            },
            "type": "scattergeo"
           }
          ],
          "scattergl": [
           {
            "marker": {
             "line": {
              "color": "#283442"
             }
            },
            "type": "scattergl"
           }
          ],
          "scattermapbox": [
           {
            "marker": {
             "colorbar": {
              "outlinewidth": 0,
              "ticks": ""
             }
            },
            "type": "scattermapbox"
           }
          ],
          "scatterpolar": [
           {
            "marker": {
             "colorbar": {
              "outlinewidth": 0,
              "ticks": ""
             }
            },
            "type": "scatterpolar"
           }
          ],
          "scatterpolargl": [
           {
            "marker": {
             "colorbar": {
              "outlinewidth": 0,
              "ticks": ""
             }
            },
            "type": "scatterpolargl"
           }
          ],
          "scatterternary": [
           {
            "marker": {
             "colorbar": {
              "outlinewidth": 0,
              "ticks": ""
             }
            },
            "type": "scatterternary"
           }
          ],
          "surface": [
           {
            "colorbar": {
             "outlinewidth": 0,
             "ticks": ""
            },
            "colorscale": [
             [
              0,
              "#0d0887"
             ],
             [
              0.1111111111111111,
              "#46039f"
             ],
             [
              0.2222222222222222,
              "#7201a8"
             ],
             [
              0.3333333333333333,
              "#9c179e"
             ],
             [
              0.4444444444444444,
              "#bd3786"
             ],
             [
              0.5555555555555556,
              "#d8576b"
             ],
             [
              0.6666666666666666,
              "#ed7953"
             ],
             [
              0.7777777777777778,
              "#fb9f3a"
             ],
             [
              0.8888888888888888,
              "#fdca26"
             ],
             [
              1,
              "#f0f921"
             ]
            ],
            "type": "surface"
           }
          ],
          "table": [
           {
            "cells": {
             "fill": {
              "color": "#506784"
             },
             "line": {
              "color": "rgb(17,17,17)"
             }
            },
            "header": {
             "fill": {
              "color": "#2a3f5f"
             },
             "line": {
              "color": "rgb(17,17,17)"
             }
            },
            "type": "table"
           }
          ]
         },
         "layout": {
          "annotationdefaults": {
           "arrowcolor": "#f2f5fa",
           "arrowhead": 0,
           "arrowwidth": 1
          },
          "autotypenumbers": "strict",
          "coloraxis": {
           "colorbar": {
            "outlinewidth": 0,
            "ticks": ""
           }
          },
          "colorscale": {
           "diverging": [
            [
             0,
             "#8e0152"
            ],
            [
             0.1,
             "#c51b7d"
            ],
            [
             0.2,
             "#de77ae"
            ],
            [
             0.3,
             "#f1b6da"
            ],
            [
             0.4,
             "#fde0ef"
            ],
            [
             0.5,
             "#f7f7f7"
            ],
            [
             0.6,
             "#e6f5d0"
            ],
            [
             0.7,
             "#b8e186"
            ],
            [
             0.8,
             "#7fbc41"
            ],
            [
             0.9,
             "#4d9221"
            ],
            [
             1,
             "#276419"
            ]
           ],
           "sequential": [
            [
             0,
             "#0d0887"
            ],
            [
             0.1111111111111111,
             "#46039f"
            ],
            [
             0.2222222222222222,
             "#7201a8"
            ],
            [
             0.3333333333333333,
             "#9c179e"
            ],
            [
             0.4444444444444444,
             "#bd3786"
            ],
            [
             0.5555555555555556,
             "#d8576b"
            ],
            [
             0.6666666666666666,
             "#ed7953"
            ],
            [
             0.7777777777777778,
             "#fb9f3a"
            ],
            [
             0.8888888888888888,
             "#fdca26"
            ],
            [
             1,
             "#f0f921"
            ]
           ],
           "sequentialminus": [
            [
             0,
             "#0d0887"
            ],
            [
             0.1111111111111111,
             "#46039f"
            ],
            [
             0.2222222222222222,
             "#7201a8"
            ],
            [
             0.3333333333333333,
             "#9c179e"
            ],
            [
             0.4444444444444444,
             "#bd3786"
            ],
            [
             0.5555555555555556,
             "#d8576b"
            ],
            [
             0.6666666666666666,
             "#ed7953"
            ],
            [
             0.7777777777777778,
             "#fb9f3a"
            ],
            [
             0.8888888888888888,
             "#fdca26"
            ],
            [
             1,
             "#f0f921"
            ]
           ]
          },
          "colorway": [
           "#636efa",
           "#EF553B",
           "#00cc96",
           "#ab63fa",
           "#FFA15A",
           "#19d3f3",
           "#FF6692",
           "#B6E880",
           "#FF97FF",
           "#FECB52"
          ],
          "font": {
           "color": "#f2f5fa"
          },
          "geo": {
           "bgcolor": "rgb(17,17,17)",
           "lakecolor": "rgb(17,17,17)",
           "landcolor": "rgb(17,17,17)",
           "showlakes": true,
           "showland": true,
           "subunitcolor": "#506784"
          },
          "hoverlabel": {
           "align": "left"
          },
          "hovermode": "closest",
          "mapbox": {
           "style": "dark"
          },
          "paper_bgcolor": "rgb(17,17,17)",
          "plot_bgcolor": "rgb(17,17,17)",
          "polar": {
           "angularaxis": {
            "gridcolor": "#506784",
            "linecolor": "#506784",
            "ticks": ""
           },
           "bgcolor": "rgb(17,17,17)",
           "radialaxis": {
            "gridcolor": "#506784",
            "linecolor": "#506784",
            "ticks": ""
           }
          },
          "scene": {
           "xaxis": {
            "backgroundcolor": "rgb(17,17,17)",
            "gridcolor": "#506784",
            "gridwidth": 2,
            "linecolor": "#506784",
            "showbackground": true,
            "ticks": "",
            "zerolinecolor": "#C8D4E3"
           },
           "yaxis": {
            "backgroundcolor": "rgb(17,17,17)",
            "gridcolor": "#506784",
            "gridwidth": 2,
            "linecolor": "#506784",
            "showbackground": true,
            "ticks": "",
            "zerolinecolor": "#C8D4E3"
           },
           "zaxis": {
            "backgroundcolor": "rgb(17,17,17)",
            "gridcolor": "#506784",
            "gridwidth": 2,
            "linecolor": "#506784",
            "showbackground": true,
            "ticks": "",
            "zerolinecolor": "#C8D4E3"
           }
          },
          "shapedefaults": {
           "line": {
            "color": "#f2f5fa"
           }
          },
          "sliderdefaults": {
           "bgcolor": "#C8D4E3",
           "bordercolor": "rgb(17,17,17)",
           "borderwidth": 1,
           "tickwidth": 0
          },
          "ternary": {
           "aaxis": {
            "gridcolor": "#506784",
            "linecolor": "#506784",
            "ticks": ""
           },
           "baxis": {
            "gridcolor": "#506784",
            "linecolor": "#506784",
            "ticks": ""
           },
           "bgcolor": "rgb(17,17,17)",
           "caxis": {
            "gridcolor": "#506784",
            "linecolor": "#506784",
            "ticks": ""
           }
          },
          "title": {
           "x": 0.05
          },
          "updatemenudefaults": {
           "bgcolor": "#506784",
           "borderwidth": 0
          },
          "xaxis": {
           "automargin": true,
           "gridcolor": "#283442",
           "linecolor": "#506784",
           "ticks": "",
           "title": {
            "standoff": 15
           },
           "zerolinecolor": "#283442",
           "zerolinewidth": 2
          },
          "yaxis": {
           "automargin": true,
           "gridcolor": "#283442",
           "linecolor": "#506784",
           "ticks": "",
           "title": {
            "standoff": 15
           },
           "zerolinecolor": "#283442",
           "zerolinewidth": 2
          }
         }
        },
        "title": {
         "text": "Loss vs Epoch"
        },
        "xaxis": {
         "anchor": "y",
         "autorange": true,
         "domain": [
          0,
          1
         ],
         "range": [
          -29.334729331471998,
          528.334729331472
         ],
         "tickangle": -45,
         "title": {
          "text": "epoch"
         },
         "type": "linear"
        },
        "yaxis": {
         "anchor": "x",
         "autorange": true,
         "domain": [
          0,
          1
         ],
         "range": [
          -0.6666666666666667,
          1.3333333333333333
         ],
         "title": {
          "text": "Accuracy"
         },
         "type": "linear"
        }
       }
      },
      "image/png": "[encoded data removed]",
      "text/html": [
       "<div>                            <div id=\"932ad3b6-6767-4fb6-9487-be0cbf3b4eef\" class=\"plotly-graph-div\" style=\"height:600px; width:100%;\"></div>            <script type=\"text/javascript\">                require([\"plotly\"], function(Plotly) {                    window.PLOTLYENV=window.PLOTLYENV || {};                                    if (document.getElementById(\"932ad3b6-6767-4fb6-9487-be0cbf3b4eef\")) {                    Plotly.newPlot(                        \"932ad3b6-6767-4fb6-9487-be0cbf3b4eef\",                        [{\"hovertemplate\":\"epoch=%{x}<br>Accuracy=%{y}<extra></extra>\",\"legendgroup\":\"\",\"line\":{\"color\":\"#636efa\",\"dash\":\"solid\"},\"marker\":{\"symbol\":\"circle\"},\"mode\":\"lines+markers\",\"name\":\"\",\"orientation\":\"v\",\"showlegend\":false,\"x\":[0.0,1.0,2.0,3.0,4.0,5.0,6.0,7.0,8.0,9.0,10.0,11.0,12.0,13.0,14.0,15.0,16.0,17.0,18.0,19.0,20.0,21.0,22.0,23.0,24.0,25.0,26.0,27.0,28.0,29.0,30.0,31.0,32.0,33.0,34.0,35.0,36.0,37.0,38.0,39.0,40.0,41.0,42.0,43.0,44.0,45.0,46.0,47.0,48.0,49.0,50.0,51.0,52.0,53.0,54.0,55.0,56.0,57.0,58.0,59.0,60.0,61.0,62.0,63.0,64.0,65.0,66.0,67.0,68.0,69.0,70.0,71.0,72.0,73.0,74.0,75.0,76.0,77.0,78.0,79.0,80.0,81.0,82.0,83.0,84.0,85.0,86.0,87.0,88.0,89.0,90.0,91.0,92.0,93.0,94.0,95.0,96.0,97.0,98.0,99.0,100.0,101.0,102.0,103.0,104.0,105.0,106.0,107.0,108.0,109.0,110.0,111.0,112.0,113.0,114.0,115.0,116.0,117.0,118.0,119.0,120.0,121.0,122.0,123.0,124.0,125.0,126.0,127.0,128.0,129.0,130.0,131.0,132.0,133.0,134.0,135.0,136.0,137.0,138.0,139.0,140.0,141.0,142.0,143.0,144.0,145.0,146.0,147.0,148.0,149.0,150.0,151.0,152.0,153.0,154.0,155.0,156.0,157.0,158.0,159.0,160.0,161.0,162.0,163.0,164.0,165.0,166.0,167.0,168.0,169.0,170.0,171.0,172.0,173.0,174.0,175.0,176.0,177.0,178.0,179.0,180.0,181.0,182.0,183.0,184.0,185.0,186.0,187.0,188.0,189.0,190.0,191.0,192.0,193.0,194.0,195.0,196.0,197.0,198.0,199.0,200.0,201.0,202.0,203.0,204.0,205.0,206.0,207.0,208.0,209.0,210.0,211.0,212.0,213.0,214.0,215.0,216.0,217.0,218.0,219.0,220.0,221.0,222.0,223.0,224.0,225.0,226.0,227.0,228.0,229.0,230.0,231.0,232.0,233.0,234.0,235.0,236.0,237.0,238.0,239.0,240.0,241.0,242.0,243.0,244.0,245.0,246.0,247.0,248.0,249.0,250.0,251.0,252.0,253.0,254.0,255.0,256.0,257.0,258.0,259.0,260.0,261.0,262.0,263.0,264.0,265.0,266.0,267.0,268.0,269.0,270.0,271.0,272.0,273.0,274.0,275.0,276.0,277.0,278.0,279.0,280.0,281.0,282.0,283.0,284.0,285.0,286.0,287.0,288.0,289.0,290.0,291.0,292.0,293.0,294.0,295.0,296.0,297.0,298.0,299.0,300.0,301.0,302.0,303.0,304.0,305.0,306.0,307.0,308.0,309.0,310.0,311.0,312.0,313.0,314.0,315.0,316.0,317.0,318.0,319.0,320.0,321.0,322.0,323.0,324.0,325.0,326.0,327.0,328.0,329.0,330.0,331.0,332.0,333.0,334.0,335.0,336.0,337.0,338.0,339.0,340.0,341.0,342.0,343.0,344.0,345.0,346.0,347.0,348.0,349.0,350.0,351.0,352.0,353.0,354.0,355.0,356.0,357.0,358.0,359.0,360.0,361.0,362.0,363.0,364.0,365.0,366.0,367.0,368.0,369.0,370.0,371.0,372.0,373.0,374.0,375.0,376.0,377.0,378.0,379.0,380.0,381.0,382.0,383.0,384.0,385.0,386.0,387.0,388.0,389.0,390.0,391.0,392.0,393.0,394.0,395.0,396.0,397.0,398.0,399.0,400.0,401.0,402.0,403.0,404.0,405.0,406.0,407.0,408.0,409.0,410.0,411.0,412.0,413.0,414.0,415.0,416.0,417.0,418.0,419.0,420.0,421.0,422.0,423.0,424.0,425.0,426.0,427.0,428.0,429.0,430.0,431.0,432.0,433.0,434.0,435.0,436.0,437.0,438.0,439.0,440.0,441.0,442.0,443.0,444.0,445.0,446.0,447.0,448.0,449.0,450.0,451.0,452.0,453.0,454.0,455.0,456.0,457.0,458.0,459.0,460.0,461.0,462.0,463.0,464.0,465.0,466.0,467.0,468.0,469.0,470.0,471.0,472.0,473.0,474.0,475.0,476.0,477.0,478.0,479.0,480.0,481.0,482.0,483.0,484.0,485.0,486.0,487.0,488.0,489.0,490.0,491.0,492.0,493.0,494.0,495.0,496.0,497.0,498.0,499.0],\"xaxis\":\"x\",\"y\":[0.3333333333333333,0.3333333333333333,0.3333333333333333,0.3333333333333333,0.3333333333333333,0.3333333333333333,0.3333333333333333,0.3333333333333333,0.3333333333333333,0.3333333333333333,0.3333333333333333,0.3333333333333333,0.3333333333333333,0.3333333333333333,0.3333333333333333,0.3333333333333333,0.3333333333333333,0.3333333333333333,0.3333333333333333,0.3333333333333333,0.3333333333333333,0.3333333333333333,0.3333333333333333,0.3333333333333333,0.3333333333333333,0.3333333333333333,0.3333333333333333,0.3333333333333333,0.3333333333333333,0.3333333333333333,0.3333333333333333,0.3333333333333333,0.3333333333333333,0.3333333333333333,0.3333333333333333,0.3333333333333333,0.3333333333333333,0.3333333333333333,0.3333333333333333,0.3333333333333333,0.3333333333333333,0.3333333333333333,0.3333333333333333,0.3333333333333333,0.3333333333333333,0.3333333333333333,0.3333333333333333,0.3333333333333333,0.3333333333333333,0.3333333333333333,0.3333333333333333,0.3333333333333333,0.3333333333333333,0.3333333333333333,0.3333333333333333,0.3333333333333333,0.3333333333333333,0.3333333333333333,0.3333333333333333,0.3333333333333333,0.3333333333333333,0.3333333333333333,0.3333333333333333,0.3333333333333333,0.3333333333333333,0.3333333333333333,0.3333333333333333,0.3333333333333333,0.3333333333333333,0.3333333333333333,0.3333333333333333,0.3333333333333333,0.3333333333333333,0.3333333333333333,0.3333333333333333,0.3333333333333333,0.3333333333333333,0.3333333333333333,0.3333333333333333,0.3333333333333333,0.3333333333333333,0.3333333333333333,0.3333333333333333,0.3333333333333333,0.3333333333333333,0.3333333333333333,0.3333333333333333,0.3333333333333333,0.3333333333333333,0.3333333333333333,0.3333333333333333,0.3333333333333333,0.3333333333333333,0.3333333333333333,0.3333333333333333,0.3333333333333333,0.3333333333333333,0.3333333333333333,0.3333333333333333,0.3333333333333333,0.3333333333333333,0.3333333333333333,0.3333333333333333,0.3333333333333333,0.3333333333333333,0.3333333333333333,0.3333333333333333,0.3333333333333333,0.3333333333333333,0.3333333333333333,0.3333333333333333,0.3333333333333333,0.3333333333333333,0.3333333333333333,0.3333333333333333,0.3333333333333333,0.3333333333333333,0.3333333333333333,0.3333333333333333,0.3333333333333333,0.3333333333333333,0.3333333333333333,0.3333333333333333,0.3333333333333333,0.3333333333333333,0.3333333333333333,0.3333333333333333,0.3333333333333333,0.3333333333333333,0.3333333333333333,0.3333333333333333,0.3333333333333333,0.3333333333333333,0.3333333333333333,0.3333333333333333,0.3333333333333333,0.3333333333333333,0.3333333333333333,0.3333333333333333,0.3333333333333333,0.3333333333333333,0.3333333333333333,0.3333333333333333,0.3333333333333333,0.3333333333333333,0.3333333333333333,0.3333333333333333,0.3333333333333333,0.3333333333333333,0.3333333333333333,0.3333333333333333,0.3333333333333333,0.3333333333333333,0.3333333333333333,0.3333333333333333,0.3333333333333333,0.3333333333333333,0.3333333333333333,0.3333333333333333,0.3333333333333333,0.3333333333333333,0.3333333333333333,0.3333333333333333,0.3333333333333333,0.3333333333333333,0.3333333333333333,0.3333333333333333,0.3333333333333333,0.3333333333333333,0.3333333333333333,0.3333333333333333,0.3333333333333333,0.3333333333333333,0.3333333333333333,0.3333333333333333,0.3333333333333333,0.3333333333333333,0.3333333333333333,0.3333333333333333,0.3333333333333333,0.3333333333333333,0.3333333333333333,0.3333333333333333,0.3333333333333333,0.3333333333333333,0.3333333333333333,0.3333333333333333,0.3333333333333333,0.3333333333333333,0.3333333333333333,0.3333333333333333,0.3333333333333333,0.3333333333333333,0.3333333333333333,0.3333333333333333,0.3333333333333333,0.3333333333333333,0.3333333333333333,0.3333333333333333,0.3333333333333333,0.3333333333333333,0.3333333333333333,0.3333333333333333,0.3333333333333333,0.3333333333333333,0.3333333333333333,0.3333333333333333,0.3333333333333333,0.3333333333333333,0.3333333333333333,0.3333333333333333,0.3333333333333333,0.3333333333333333,0.3333333333333333,0.3333333333333333,0.3333333333333333,0.3333333333333333,0.3333333333333333,0.3333333333333333,0.3333333333333333,0.3333333333333333,0.3333333333333333,0.3333333333333333,0.3333333333333333,0.3333333333333333,0.3333333333333333,0.3333333333333333,0.3333333333333333,0.3333333333333333,0.3333333333333333,0.3333333333333333,0.3333333333333333,0.3333333333333333,0.3333333333333333,0.3333333333333333,0.3333333333333333,0.3333333333333333,0.3333333333333333,0.3333333333333333,0.3333333333333333,0.3333333333333333,0.3333333333333333,0.3333333333333333,0.3333333333333333,0.3333333333333333,0.3333333333333333,0.3333333333333333,0.3333333333333333,0.3333333333333333,0.3333333333333333,0.3333333333333333,0.3333333333333333,0.3333333333333333,0.3333333333333333,0.3333333333333333,0.3333333333333333,0.3333333333333333,0.3333333333333333,0.3333333333333333,0.3333333333333333,0.3333333333333333,0.3333333333333333,0.3333333333333333,0.3333333333333333,0.3333333333333333,0.3333333333333333,0.3333333333333333,0.3333333333333333,0.3333333333333333,0.3333333333333333,0.3333333333333333,0.3333333333333333,0.3333333333333333,0.3333333333333333,0.3333333333333333,0.3333333333333333,0.3333333333333333,0.3333333333333333,0.3333333333333333,0.3333333333333333,0.3333333333333333,0.3333333333333333,0.3333333333333333,0.3333333333333333,0.3333333333333333,0.3333333333333333,0.3333333333333333,0.3333333333333333,0.3333333333333333,0.3333333333333333,0.3333333333333333,0.3333333333333333,0.3333333333333333,0.3333333333333333,0.3333333333333333,0.3333333333333333,0.3333333333333333,0.3333333333333333,0.3333333333333333,0.3333333333333333,0.3333333333333333,0.3333333333333333,0.3333333333333333,0.3333333333333333,0.3333333333333333,0.3333333333333333,0.3333333333333333,0.3333333333333333,0.3333333333333333,0.3333333333333333,0.3333333333333333,0.3333333333333333,0.3333333333333333,0.3333333333333333,0.3333333333333333,0.3333333333333333,0.3333333333333333,0.3333333333333333,0.3333333333333333,0.3333333333333333,0.3333333333333333,0.3333333333333333,0.3333333333333333,0.3333333333333333,0.3333333333333333,0.3333333333333333,0.3333333333333333,0.3333333333333333,0.3333333333333333,0.3333333333333333,0.3333333333333333,0.3333333333333333,0.3333333333333333,0.3333333333333333,0.3333333333333333,0.3333333333333333,0.3333333333333333,0.3333333333333333,0.3333333333333333,0.3333333333333333,0.3333333333333333,0.3333333333333333,0.3333333333333333,0.3333333333333333,0.3333333333333333,0.3333333333333333,0.3333333333333333,0.3333333333333333,0.3333333333333333,0.3333333333333333,0.3333333333333333,0.3333333333333333,0.3333333333333333,0.3333333333333333,0.3333333333333333,0.3333333333333333,0.3333333333333333,0.3333333333333333,0.3333333333333333,0.3333333333333333,0.3333333333333333,0.3333333333333333,0.3333333333333333,0.3333333333333333,0.3333333333333333,0.3333333333333333,0.3333333333333333,0.3333333333333333,0.3333333333333333,0.3333333333333333,0.3333333333333333,0.3333333333333333,0.3333333333333333,0.3333333333333333,0.3333333333333333,0.3333333333333333,0.3333333333333333,0.3333333333333333,0.3333333333333333,0.3333333333333333,0.3333333333333333,0.3333333333333333,0.3333333333333333,0.3333333333333333,0.3333333333333333,0.3333333333333333,0.3333333333333333,0.3333333333333333,0.3333333333333333,0.3333333333333333,0.3333333333333333,0.3333333333333333,0.3333333333333333,0.3333333333333333,0.3333333333333333,0.3333333333333333,0.3333333333333333,0.3333333333333333,0.3333333333333333,0.3333333333333333,0.3333333333333333,0.3333333333333333,0.3333333333333333,0.3333333333333333,0.3333333333333333,0.3333333333333333,0.3333333333333333,0.3333333333333333,0.3333333333333333,0.3333333333333333,0.3333333333333333,0.3333333333333333,0.3333333333333333,0.3333333333333333,0.3333333333333333,0.3333333333333333,0.3333333333333333,0.3333333333333333,0.3333333333333333,0.3333333333333333,0.3333333333333333,0.3333333333333333,0.3333333333333333,0.3333333333333333,0.3333333333333333,0.3333333333333333,0.3333333333333333,0.3333333333333333,0.3333333333333333,0.3333333333333333,0.3333333333333333,0.3333333333333333,0.3333333333333333,0.3333333333333333,0.3333333333333333,0.3333333333333333,0.3333333333333333,0.3333333333333333,0.3333333333333333,0.3333333333333333,0.3333333333333333,0.3333333333333333,0.3333333333333333,0.3333333333333333,0.3333333333333333,0.3333333333333333,0.3333333333333333,0.3333333333333333,0.3333333333333333,0.3333333333333333,0.3333333333333333,0.3333333333333333,0.3333333333333333,0.3333333333333333,0.3333333333333333,0.3333333333333333,0.3333333333333333,0.3333333333333333,0.3333333333333333,0.3333333333333333,0.3333333333333333,0.3333333333333333,0.3333333333333333,0.3333333333333333,0.3333333333333333,0.3333333333333333,0.3333333333333333,0.3333333333333333,0.3333333333333333,0.3333333333333333,0.3333333333333333,0.3333333333333333,0.3333333333333333,0.3333333333333333,0.3333333333333333,0.3333333333333333,0.3333333333333333,0.3333333333333333,0.3333333333333333,0.3333333333333333,0.3333333333333333,0.3333333333333333,0.3333333333333333,0.3333333333333333,0.3333333333333333,0.3333333333333333,0.3333333333333333,0.3333333333333333,0.3333333333333333,0.3333333333333333,0.3333333333333333,0.3333333333333333,0.3333333333333333,0.3333333333333333,0.3333333333333333,0.3333333333333333,0.3333333333333333,0.3333333333333333,0.3333333333333333,0.3333333333333333],\"yaxis\":\"y\",\"type\":\"scatter\"}],                        {\"template\":{\"data\":{\"barpolar\":[{\"marker\":{\"line\":{\"color\":\"rgb(17,17,17)\",\"width\":0.5},\"pattern\":{\"fillmode\":\"overlay\",\"size\":10,\"solidity\":0.2}},\"type\":\"barpolar\"}],\"bar\":[{\"error_x\":{\"color\":\"#f2f5fa\"},\"error_y\":{\"color\":\"#f2f5fa\"},\"marker\":{\"line\":{\"color\":\"rgb(17,17,17)\",\"width\":0.5},\"pattern\":{\"fillmode\":\"overlay\",\"size\":10,\"solidity\":0.2}},\"type\":\"bar\"}],\"carpet\":[{\"aaxis\":{\"endlinecolor\":\"#A2B1C6\",\"gridcolor\":\"#506784\",\"linecolor\":\"#506784\",\"minorgridcolor\":\"#506784\",\"startlinecolor\":\"#A2B1C6\"},\"baxis\":{\"endlinecolor\":\"#A2B1C6\",\"gridcolor\":\"#506784\",\"linecolor\":\"#506784\",\"minorgridcolor\":\"#506784\",\"startlinecolor\":\"#A2B1C6\"},\"type\":\"carpet\"}],\"choropleth\":[{\"colorbar\":{\"outlinewidth\":0,\"ticks\":\"\"},\"type\":\"choropleth\"}],\"contourcarpet\":[{\"colorbar\":{\"outlinewidth\":0,\"ticks\":\"\"},\"type\":\"contourcarpet\"}],\"contour\":[{\"colorbar\":{\"outlinewidth\":0,\"ticks\":\"\"},\"colorscale\":[[0.0,\"#0d0887\"],[0.1111111111111111,\"#46039f\"],[0.2222222222222222,\"#7201a8\"],[0.3333333333333333,\"#9c179e\"],[0.4444444444444444,\"#bd3786\"],[0.5555555555555556,\"#d8576b\"],[0.6666666666666666,\"#ed7953\"],[0.7777777777777778,\"#fb9f3a\"],[0.8888888888888888,\"#fdca26\"],[1.0,\"#f0f921\"]],\"type\":\"contour\"}],\"heatmapgl\":[{\"colorbar\":{\"outlinewidth\":0,\"ticks\":\"\"},\"colorscale\":[[0.0,\"#0d0887\"],[0.1111111111111111,\"#46039f\"],[0.2222222222222222,\"#7201a8\"],[0.3333333333333333,\"#9c179e\"],[0.4444444444444444,\"#bd3786\"],[0.5555555555555556,\"#d8576b\"],[0.6666666666666666,\"#ed7953\"],[0.7777777777777778,\"#fb9f3a\"],[0.8888888888888888,\"#fdca26\"],[1.0,\"#f0f921\"]],\"type\":\"heatmapgl\"}],\"heatmap\":[{\"colorbar\":{\"outlinewidth\":0,\"ticks\":\"\"},\"colorscale\":[[0.0,\"#0d0887\"],[0.1111111111111111,\"#46039f\"],[0.2222222222222222,\"#7201a8\"],[0.3333333333333333,\"#9c179e\"],[0.4444444444444444,\"#bd3786\"],[0.5555555555555556,\"#d8576b\"],[0.6666666666666666,\"#ed7953\"],[0.7777777777777778,\"#fb9f3a\"],[0.8888888888888888,\"#fdca26\"],[1.0,\"#f0f921\"]],\"type\":\"heatmap\"}],\"histogram2dcontour\":[{\"colorbar\":{\"outlinewidth\":0,\"ticks\":\"\"},\"colorscale\":[[0.0,\"#0d0887\"],[0.1111111111111111,\"#46039f\"],[0.2222222222222222,\"#7201a8\"],[0.3333333333333333,\"#9c179e\"],[0.4444444444444444,\"#bd3786\"],[0.5555555555555556,\"#d8576b\"],[0.6666666666666666,\"#ed7953\"],[0.7777777777777778,\"#fb9f3a\"],[0.8888888888888888,\"#fdca26\"],[1.0,\"#f0f921\"]],\"type\":\"histogram2dcontour\"}],\"histogram2d\":[{\"colorbar\":{\"outlinewidth\":0,\"ticks\":\"\"},\"colorscale\":[[0.0,\"#0d0887\"],[0.1111111111111111,\"#46039f\"],[0.2222222222222222,\"#7201a8\"],[0.3333333333333333,\"#9c179e\"],[0.4444444444444444,\"#bd3786\"],[0.5555555555555556,\"#d8576b\"],[0.6666666666666666,\"#ed7953\"],[0.7777777777777778,\"#fb9f3a\"],[0.8888888888888888,\"#fdca26\"],[1.0,\"#f0f921\"]],\"type\":\"histogram2d\"}],\"histogram\":[{\"marker\":{\"pattern\":{\"fillmode\":\"overlay\",\"size\":10,\"solidity\":0.2}},\"type\":\"histogram\"}],\"mesh3d\":[{\"colorbar\":{\"outlinewidth\":0,\"ticks\":\"\"},\"type\":\"mesh3d\"}],\"parcoords\":[{\"line\":{\"colorbar\":{\"outlinewidth\":0,\"ticks\":\"\"}},\"type\":\"parcoords\"}],\"pie\":[{\"automargin\":true,\"type\":\"pie\"}],\"scatter3d\":[{\"line\":{\"colorbar\":{\"outlinewidth\":0,\"ticks\":\"\"}},\"marker\":{\"colorbar\":{\"outlinewidth\":0,\"ticks\":\"\"}},\"type\":\"scatter3d\"}],\"scattercarpet\":[{\"marker\":{\"colorbar\":{\"outlinewidth\":0,\"ticks\":\"\"}},\"type\":\"scattercarpet\"}],\"scattergeo\":[{\"marker\":{\"colorbar\":{\"outlinewidth\":0,\"ticks\":\"\"}},\"type\":\"scattergeo\"}],\"scattergl\":[{\"marker\":{\"line\":{\"color\":\"#283442\"}},\"type\":\"scattergl\"}],\"scattermapbox\":[{\"marker\":{\"colorbar\":{\"outlinewidth\":0,\"ticks\":\"\"}},\"type\":\"scattermapbox\"}],\"scatterpolargl\":[{\"marker\":{\"colorbar\":{\"outlinewidth\":0,\"ticks\":\"\"}},\"type\":\"scatterpolargl\"}],\"scatterpolar\":[{\"marker\":{\"colorbar\":{\"outlinewidth\":0,\"ticks\":\"\"}},\"type\":\"scatterpolar\"}],\"scatter\":[{\"marker\":{\"line\":{\"color\":\"#283442\"}},\"type\":\"scatter\"}],\"scatterternary\":[{\"marker\":{\"colorbar\":{\"outlinewidth\":0,\"ticks\":\"\"}},\"type\":\"scatterternary\"}],\"surface\":[{\"colorbar\":{\"outlinewidth\":0,\"ticks\":\"\"},\"colorscale\":[[0.0,\"#0d0887\"],[0.1111111111111111,\"#46039f\"],[0.2222222222222222,\"#7201a8\"],[0.3333333333333333,\"#9c179e\"],[0.4444444444444444,\"#bd3786\"],[0.5555555555555556,\"#d8576b\"],[0.6666666666666666,\"#ed7953\"],[0.7777777777777778,\"#fb9f3a\"],[0.8888888888888888,\"#fdca26\"],[1.0,\"#f0f921\"]],\"type\":\"surface\"}],\"table\":[{\"cells\":{\"fill\":{\"color\":\"#506784\"},\"line\":{\"color\":\"rgb(17,17,17)\"}},\"header\":{\"fill\":{\"color\":\"#2a3f5f\"},\"line\":{\"color\":\"rgb(17,17,17)\"}},\"type\":\"table\"}]},\"layout\":{\"annotationdefaults\":{\"arrowcolor\":\"#f2f5fa\",\"arrowhead\":0,\"arrowwidth\":1},\"autotypenumbers\":\"strict\",\"coloraxis\":{\"colorbar\":{\"outlinewidth\":0,\"ticks\":\"\"}},\"colorscale\":{\"diverging\":[[0,\"#8e0152\"],[0.1,\"#c51b7d\"],[0.2,\"#de77ae\"],[0.3,\"#f1b6da\"],[0.4,\"#fde0ef\"],[0.5,\"#f7f7f7\"],[0.6,\"#e6f5d0\"],[0.7,\"#b8e186\"],[0.8,\"#7fbc41\"],[0.9,\"#4d9221\"],[1,\"#276419\"]],\"sequential\":[[0.0,\"#0d0887\"],[0.1111111111111111,\"#46039f\"],[0.2222222222222222,\"#7201a8\"],[0.3333333333333333,\"#9c179e\"],[0.4444444444444444,\"#bd3786\"],[0.5555555555555556,\"#d8576b\"],[0.6666666666666666,\"#ed7953\"],[0.7777777777777778,\"#fb9f3a\"],[0.8888888888888888,\"#fdca26\"],[1.0,\"#f0f921\"]],\"sequentialminus\":[[0.0,\"#0d0887\"],[0.1111111111111111,\"#46039f\"],[0.2222222222222222,\"#7201a8\"],[0.3333333333333333,\"#9c179e\"],[0.4444444444444444,\"#bd3786\"],[0.5555555555555556,\"#d8576b\"],[0.6666666666666666,\"#ed7953\"],[0.7777777777777778,\"#fb9f3a\"],[0.8888888888888888,\"#fdca26\"],[1.0,\"#f0f921\"]]},\"colorway\":[\"#636efa\",\"#EF553B\",\"#00cc96\",\"#ab63fa\",\"#FFA15A\",\"#19d3f3\",\"#FF6692\",\"#B6E880\",\"#FF97FF\",\"#FECB52\"],\"font\":{\"color\":\"#f2f5fa\"},\"geo\":{\"bgcolor\":\"rgb(17,17,17)\",\"lakecolor\":\"rgb(17,17,17)\",\"landcolor\":\"rgb(17,17,17)\",\"showlakes\":true,\"showland\":true,\"subunitcolor\":\"#506784\"},\"hoverlabel\":{\"align\":\"left\"},\"hovermode\":\"closest\",\"mapbox\":{\"style\":\"dark\"},\"paper_bgcolor\":\"rgb(17,17,17)\",\"plot_bgcolor\":\"rgb(17,17,17)\",\"polar\":{\"angularaxis\":{\"gridcolor\":\"#506784\",\"linecolor\":\"#506784\",\"ticks\":\"\"},\"bgcolor\":\"rgb(17,17,17)\",\"radialaxis\":{\"gridcolor\":\"#506784\",\"linecolor\":\"#506784\",\"ticks\":\"\"}},\"scene\":{\"xaxis\":{\"backgroundcolor\":\"rgb(17,17,17)\",\"gridcolor\":\"#506784\",\"gridwidth\":2,\"linecolor\":\"#506784\",\"showbackground\":true,\"ticks\":\"\",\"zerolinecolor\":\"#C8D4E3\"},\"yaxis\":{\"backgroundcolor\":\"rgb(17,17,17)\",\"gridcolor\":\"#506784\",\"gridwidth\":2,\"linecolor\":\"#506784\",\"showbackground\":true,\"ticks\":\"\",\"zerolinecolor\":\"#C8D4E3\"},\"zaxis\":{\"backgroundcolor\":\"rgb(17,17,17)\",\"gridcolor\":\"#506784\",\"gridwidth\":2,\"linecolor\":\"#506784\",\"showbackground\":true,\"ticks\":\"\",\"zerolinecolor\":\"#C8D4E3\"}},\"shapedefaults\":{\"line\":{\"color\":\"#f2f5fa\"}},\"sliderdefaults\":{\"bgcolor\":\"#C8D4E3\",\"bordercolor\":\"rgb(17,17,17)\",\"borderwidth\":1,\"tickwidth\":0},\"ternary\":{\"aaxis\":{\"gridcolor\":\"#506784\",\"linecolor\":\"#506784\",\"ticks\":\"\"},\"baxis\":{\"gridcolor\":\"#506784\",\"linecolor\":\"#506784\",\"ticks\":\"\"},\"bgcolor\":\"rgb(17,17,17)\",\"caxis\":{\"gridcolor\":\"#506784\",\"linecolor\":\"#506784\",\"ticks\":\"\"}},\"title\":{\"x\":0.05},\"updatemenudefaults\":{\"bgcolor\":\"#506784\",\"borderwidth\":0},\"xaxis\":{\"automargin\":true,\"gridcolor\":\"#283442\",\"linecolor\":\"#506784\",\"ticks\":\"\",\"title\":{\"standoff\":15},\"zerolinecolor\":\"#283442\",\"zerolinewidth\":2},\"yaxis\":{\"automargin\":true,\"gridcolor\":\"#283442\",\"linecolor\":\"#506784\",\"ticks\":\"\",\"title\":{\"standoff\":15},\"zerolinecolor\":\"#283442\",\"zerolinewidth\":2}}},\"xaxis\":{\"anchor\":\"y\",\"domain\":[0.0,1.0],\"title\":{\"text\":\"epoch\"},\"tickangle\":-45},\"yaxis\":{\"anchor\":\"x\",\"domain\":[0.0,1.0],\"title\":{\"text\":\"Accuracy\"}},\"legend\":{\"tracegroupgap\":0},\"title\":{\"text\":\"Loss vs Epoch\"},\"height\":600},                        {\"responsive\": true}                    ).then(function(){\n",
       "                            \n",
       "var gd = document.getElementById('932ad3b6-6767-4fb6-9487-be0cbf3b4eef');\n",
       "var x = new MutationObserver(function (mutations, observer) {{\n",
       "        var display = window.getComputedStyle(gd).display;\n",
       "        if (!display || display === 'none') {{\n",
       "            console.log([gd, 'removed!']);\n",
       "            Plotly.purge(gd);\n",
       "            observer.disconnect();\n",
       "        }}\n",
       "}});\n",
       "\n",
       "// Listen for the removal of the full notebook cells\n",
       "var notebookContainer = gd.closest('#notebook-container');\n",
       "if (notebookContainer) {{\n",
       "    x.observe(notebookContainer, {childList: true});\n",
       "}}\n",
       "\n",
       "// Listen for the clearing of the current output cell\n",
       "var outputEl = gd.closest('.output');\n",
       "if (outputEl) {{\n",
       "    x.observe(outputEl, {childList: true});\n",
       "}}\n",
       "\n",
       "                        })                };                });            </script>        </div>"
      ]
     },
     "metadata": {},
     "output_type": "display_data"
    }
   ],
   "source": [
    "fig = px.line(\n",
    "    ep_cost, \n",
    "    y=\"accuracy\", \n",
    "    x=\"epoch\", \n",
    "    labels={\n",
    "        \"accuracy\": \"Accuracy\"\n",
    "    },\n",
    "    height=600,\n",
    "    markers=True,\n",
    "    title=\"Loss vs Epoch\", \n",
    ")\n",
    "fig.layout.template = \"plotly_dark\"\n",
    "fig.update_xaxes(\n",
    "    tickangle = -45,\n",
    ")\n",
    "fig.show()"
   ]
  },
  {
   "cell_type": "code",
   "execution_count": 81,
   "metadata": {},
   "outputs": [
    {
     "name": "stdout",
     "output_type": "stream",
     "text": [
      "[[0.33381664 0.33305611 0.33312725]\n",
      " [0.33376495 0.33308482 0.33315023]\n",
      " [0.33374099 0.33309883 0.33316017]\n",
      " [0.33374365 0.33309703 0.33315932]\n",
      " [0.33380855 0.33306083 0.33313062]\n",
      " [0.33394399 0.33298447 0.33307154]\n",
      " [0.33375676 0.33308997 0.33315327]\n",
      " [0.33380878 0.33306032 0.33313089]\n",
      " [0.33370334 0.33311999 0.33317667]\n",
      " [0.33377114 0.33308136 0.33314751]\n",
      " [0.33387774 0.33302141 0.33310085]\n",
      " [0.33379318 0.33306909 0.33313773]\n",
      " [0.33374441 0.33309658 0.33315901]\n",
      " [0.33366556 0.33314208 0.33319236]\n",
      " [0.33389439 0.33301115 0.33309446]\n",
      " [0.33397437 0.33296688 0.33305875]\n",
      " [0.33387609 0.33302209 0.33310182]\n",
      " [0.33382647 0.33305051 0.33312302]\n",
      " [0.33397223 0.33296821 0.33305956]\n",
      " [0.33385355 0.33303544 0.33311101]\n",
      " [0.33389029 0.33301401 0.3330957 ]\n",
      " [0.33385983 0.33303182 0.33310835]\n",
      " [0.33371568 0.33311363 0.33317069]\n",
      " [0.33387115 0.33302455 0.3331043 ]\n",
      " [0.3338261  0.33305011 0.33312379]\n",
      " [0.33379835 0.33306559 0.33313605]\n",
      " [0.33383986 0.33304255 0.33311759]\n",
      " [0.33384197 0.33304167 0.33311636]\n",
      " [0.33382487 0.3330513  0.33312383]\n",
      " [0.33377032 0.33308184 0.33314784]\n",
      " [0.33377779 0.33307745 0.33314476]\n",
      " [0.33388711 0.33301596 0.33309693]\n",
      " [0.33385526 0.33303436 0.33311038]\n",
      " [0.33389413 0.33301197 0.3330939 ]\n",
      " [0.33378011 0.33307622 0.33314368]\n",
      " [0.33376705 0.33308405 0.3331489 ]\n",
      " [0.33385191 0.33303558 0.33311251]\n",
      " [0.33378611 0.33307358 0.3331403 ]\n",
      " [0.33369903 0.33312265 0.33317832]\n",
      " [0.33382236 0.33305263 0.33312502]\n",
      " [0.33380169 0.33306463 0.33313368]\n",
      " [0.33368738 0.33312859 0.33318403]\n",
      " [0.33370759 0.33311795 0.33317445]\n",
      " [0.33386658 0.33302753 0.33310589]\n",
      " [0.33391676 0.33299948 0.33308376]\n",
      " [0.33376148 0.33308677 0.33315175]\n",
      " [0.33385665 0.33303373 0.33310962]\n",
      " [0.33373886 0.33309997 0.33316117]\n",
      " [0.33386457 0.33302897 0.33310647]\n",
      " [0.33379273 0.33306939 0.33313788]\n",
      " [0.3349047  0.33245593 0.33263938]\n",
      " [0.33467634 0.33257785 0.3327458 ]\n",
      " [0.33492676 0.33244498 0.33262826]\n",
      " [0.33419604 0.33283912 0.33296483]\n",
      " [0.33466314 0.33258642 0.33275044]\n",
      " [0.33438325 0.33273694 0.33287981]\n",
      " [0.33472969 0.3325494  0.33272091]\n",
      " [0.33397223 0.33296011 0.33306766]\n",
      " [0.33466821 0.33258324 0.33274855]\n",
      " [0.33417834 0.33284748 0.33297418]\n",
      " [0.33397638 0.33295929 0.33306434]\n",
      " [0.33444095 0.33270464 0.33285441]\n",
      " [0.33424654 0.33281173 0.33294173]\n",
      " [0.33456101 0.33264115 0.33279783]\n",
      " [0.33422408 0.33282132 0.3329546 ]\n",
      " [0.33470958 0.33256005 0.33273037]\n",
      " [0.33441966 0.33271676 0.33286358]\n",
      " [0.33427778 0.33279345 0.33292877]\n",
      " [0.3344636  0.33269553 0.33284087]\n",
      " [0.33419575 0.33283837 0.33296588]\n",
      " [0.33465267 0.3325914  0.33275593]\n",
      " [0.33439268 0.33273082 0.33287651]\n",
      " [0.33461925 0.33261163 0.33276912]\n",
      " [0.33450733 0.33267026 0.33282241]\n",
      " [0.33454434 0.33264923 0.33280644]\n",
      " [0.33466121 0.33258633 0.33275246]\n",
      " [0.33478481 0.33252156 0.33269363]\n",
      " [0.33491074 0.33245423 0.33263503]\n",
      " [0.33451146 0.3326675  0.33282104]\n",
      " [0.33415506 0.33285947 0.33298547]\n",
      " [0.33415063 0.3328631  0.33298627]\n",
      " [0.33412369 0.33287758 0.33299873]\n",
      " [0.33427614 0.33279407 0.33292979]\n",
      " [0.33462563 0.33260806 0.33276631]\n",
      " [0.3343698  0.33274375 0.33288646]\n",
      " [0.33460811 0.33261397 0.33277792]\n",
      " [0.33480424 0.33251003 0.33268573]\n",
      " [0.33444888 0.3327028  0.33284832]\n",
      " [0.33431591 0.33277204 0.33291205]\n",
      " [0.33421844 0.33282632 0.33295524]\n",
      " [0.33427785 0.33279444 0.33292771]\n",
      " [0.33455567 0.33264351 0.33280082]\n",
      " [0.33428023 0.33279234 0.33292743]\n",
      " [0.33397929 0.33295648 0.33306423]\n",
      " [0.3342954  0.33278427 0.33292034]\n",
      " [0.3343402  0.332759   0.3329008 ]\n",
      " [0.3343437  0.33275746 0.33289884]\n",
      " [0.33448899 0.33267907 0.33283194]\n",
      " [0.33399061 0.33294976 0.33305963]\n",
      " [0.33431409 0.33277362 0.33291229]\n",
      " [0.33539751 0.3321958  0.33240669]\n",
      " [0.33463658 0.33260206 0.33276136]\n",
      " [0.33550411 0.33214079 0.3323551 ]\n",
      " [0.33494113 0.33243944 0.33261944]\n",
      " [0.33524    0.33228007 0.33247993]\n",
      " [0.33613378 0.33180939 0.33205684]\n",
      " [0.33422602 0.33282346 0.33295052]\n",
      " [0.33564453 0.3320672  0.33228827]\n",
      " [0.33511048 0.3323499  0.33253961]\n",
      " [0.33593992 0.33190998 0.33215009]\n",
      " [0.33498016 0.33241696 0.33260288]\n",
      " [0.33488154 0.33247139 0.33264707]\n",
      " [0.33520408 0.3322995  0.33249642]\n",
      " [0.33458809 0.33262808 0.33278383]\n",
      " [0.33478113 0.33252397 0.3326949 ]\n",
      " [0.3350787  0.33236514 0.33255616]\n",
      " [0.33499762 0.33240911 0.33259327]\n",
      " [0.33648232 0.33162578 0.3318919 ]\n",
      " [0.33641305 0.33166302 0.33192393]\n",
      " [0.33452071 0.33266532 0.33281397]\n",
      " [0.33543489 0.33217685 0.33238826]\n",
      " [0.33456194 0.33264182 0.33279624]\n",
      " [0.33615947 0.33179628 0.33204425]\n",
      " [0.33471679 0.33255884 0.33272437]\n",
      " [0.335295   0.33225066 0.33245434]\n",
      " [0.33551299 0.33213607 0.33235095]\n",
      " [0.33467906 0.33257852 0.33274242]\n",
      " [0.33470436 0.33256452 0.33273113]\n",
      " [0.33506246 0.33237463 0.33256291]\n",
      " [0.33532608 0.33223511 0.33243881]\n",
      " [0.33562371 0.33207826 0.33229803]\n",
      " [0.33636973 0.33168391 0.33194636]\n",
      " [0.33509642 0.33235645 0.33254713]\n",
      " [0.33471442 0.33256001 0.33272557]\n",
      " [0.33472752 0.33255411 0.33271837]\n",
      " [0.33600686 0.33187598 0.33211716]\n",
      " [0.33520531 0.33229779 0.3324969 ]\n",
      " [0.33497986 0.33241823 0.33260191]\n",
      " [0.33465036 0.33259328 0.33275636]\n",
      " [0.33523932 0.33228019 0.33248048]\n",
      " [0.3353292  0.33223264 0.33243816]\n",
      " [0.33520434 0.33229821 0.33249745]\n",
      " [0.33463658 0.33260206 0.33276136]\n",
      " [0.33548027 0.33215274 0.33236699]\n",
      " [0.33544158 0.33217282 0.33238559]\n",
      " [0.33512783 0.33233946 0.33253271]\n",
      " [0.33473364 0.33255057 0.33271579]\n",
      " [0.33496699 0.33242489 0.33260812]\n",
      " [0.33507057 0.33236901 0.33256042]\n",
      " [0.33468691 0.33257432 0.33273877]]\n"
     ]
    },
    {
     "data": {
      "text/plain": [
       "array([ 0.32160424,  0.00339853,  0.07737081,  0.0722213 ,  0.15911885,\n",
       "       -0.00995885, -1.0630232 , -0.20488134,  0.77091765,  0.79845249,\n",
       "       -0.19295786, -0.36338007, -0.05512753, -0.70082327,  0.48778024,\n",
       "       -0.42931332, -0.28442796, -0.21749204, -0.01954939, -0.05699583,\n",
       "       -0.08411553,  0.05322281,  0.04154708, -0.1528917 , -0.42838759,\n",
       "       -0.10172944,  0.08178988, -0.18284631, -0.00513851,  0.67132957,\n",
       "       -0.21432307, -0.03202741, -0.20624308,  0.37934202, -0.32799275,\n",
       "        0.24104367,  0.25125566,  0.37233721,  0.27110587,  0.15554357,\n",
       "       -0.54768217, -0.00820404, -0.48227285, -0.64308512, -0.95517615,\n",
       "        0.36149342,  0.08876616,  0.4800545 ,  0.48264962, -0.32815629,\n",
       "        0.54814391,  0.11840148,  1.05807146, -0.08789915,  0.44226001,\n",
       "        0.10652187,  0.01055891,  0.46021315, -0.7595854 ,  0.41020699,\n",
       "       -0.59596844,  0.41539569, -0.02563596,  0.14736065, -0.36870878,\n",
       "       -0.48281331, -0.33051031,  0.26349193, -0.00519743,  0.32627269,\n",
       "       -0.1901406 , -0.14154846, -0.09633106,  0.09397834, -0.3593846 ,\n",
       "        0.18223388, -0.49733688, -0.11627718,  0.10733707, -0.31699989,\n",
       "       -0.95947041,  0.17008087, -0.23306417,  0.44955805,  0.07971436,\n",
       "       -0.27198799,  0.0837077 , -0.03438439, -0.01809194,  0.12129517,\n",
       "        0.62728198, -0.19980671, -0.24313743,  1.25790279, -0.00277185,\n",
       "       -0.02140826, -0.07501238,  0.31784036,  0.4649663 ,  0.4036084 ,\n",
       "       -0.13703671,  0.59359162,  0.1436074 ,  0.13809375, -0.12931998,\n",
       "        0.09533393,  0.27934568,  0.27084981, -0.25112135, -0.45422083,\n",
       "       -0.00802834,  0.1176895 , -0.309702  , -0.05648055,  0.55511458,\n",
       "        0.34418108, -0.26698224, -0.29044061, -0.44773922, -0.29839751,\n",
       "       -0.00729594,  0.21803536, -0.31488637,  0.4840939 , -0.20076646,\n",
       "        0.37159343,  0.2234954 , -0.90100547,  0.38537801, -0.58570151,\n",
       "       -0.89567126,  0.45880585, -0.00362271, -0.14323934,  0.15080831,\n",
       "       -0.50945793,  0.41543291,  0.13986719,  0.60878072, -0.29981932,\n",
       "       -0.27857963,  0.39596174,  0.3257235 ,  0.48373002, -0.25432165,\n",
       "       -0.25682219, -0.54256699,  0.50087999,  1.10637183,  0.03213473,\n",
       "        0.34602864,  0.57303591,  0.25737622, -0.86414994, -0.26145254,\n",
       "        0.24649688,  0.12903047, -0.20841539, -0.10969168,  0.7216362 ,\n",
       "        0.40490662,  0.05215557, -0.45176071,  0.10182386,  0.09621602,\n",
       "        0.42083383,  0.52412875, -0.03574563,  0.15410892, -0.53406947,\n",
       "       -1.00144161,  0.43675292,  0.03431155, -0.80112865,  0.39148085,\n",
       "        0.5915041 ,  0.52931578,  0.20627585, -0.51263955,  0.12208176,\n",
       "       -0.0902665 , -0.3352021 ,  0.50436858,  0.01208412,  0.5674897 ,\n",
       "        0.12630292, -0.09207045,  0.33722875, -0.28555772,  0.06731413,\n",
       "       -0.01722372,  0.00956129, -0.05010275,  0.48963349,  0.242541  ,\n",
       "       -0.3455378 ,  0.43159694,  0.08612986, -0.4170359 , -0.50467047,\n",
       "        0.61814859,  0.50453541, -0.19196902, -0.13419472,  0.37263905,\n",
       "       -0.52837666, -0.57553804, -0.09479368, -0.29766984, -0.39427165,\n",
       "        0.95763287, -0.44534307,  0.57110868, -0.64145541,  0.46203759,\n",
       "       -0.32251478,  0.40180572, -0.01758173,  0.14244313, -0.53673083,\n",
       "       -0.66424949, -0.40819231,  0.50323302,  0.10904824, -0.00820921])"
      ]
     },
     "execution_count": 81,
     "metadata": {},
     "output_type": "execute_result"
    }
   ],
   "source": [
    "pred = nn.forward(x_train)\n",
    "print(softmax(pred))\n",
    "nn.export()"
   ]
  },
  {
   "cell_type": "code",
   "execution_count": null,
   "metadata": {},
   "outputs": [],
   "source": []
  },
  {
   "cell_type": "code",
   "execution_count": null,
   "metadata": {},
   "outputs": [],
   "source": []
  }
 ],
 "metadata": {
  "deepnote": {},
  "deepnote_execution_queue": [],
  "deepnote_notebook_id": "c22f8d5def3a4f3c84bb133c99046595",
  "deepnote_persisted_session": {
   "createdAt": "2022-11-04T01:15:39.027Z"
  },
  "kernelspec": {
   "display_name": "Python 3",
   "language": "python",
   "name": "python3"
  },
  "language_info": {
   "codemirror_mode": {
    "name": "ipython",
    "version": 3
   },
   "file_extension": ".py",
   "mimetype": "text/x-python",
   "name": "python",
   "nbconvert_exporter": "python",
   "pygments_lexer": "ipython3",
   "version": "3.8.13"
  }
 },
 "nbformat": 4,
 "nbformat_minor": 4
}
